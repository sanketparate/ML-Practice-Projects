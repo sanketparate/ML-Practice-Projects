{
 "cells": [
  {
   "cell_type": "markdown",
   "metadata": {},
   "source": [
    "Dataset: http://archive.ics.uci.edu/ml/datasets/connectionist+bench+(sonar,+mines+vs.+rocks) "
   ]
  },
  {
   "cell_type": "markdown",
   "metadata": {},
   "source": [
    "<b>Data Set Information:</b>\n",
    "\n",
    "The file \"sonar.mines\" contains 111 patterns obtained by bouncing sonar signals off a metal cylinder at various angles and under various conditions. The file \"sonar.rocks\" contains 97 patterns obtained from rocks under similar conditions. The transmitted sonar signal is a frequency-modulated chirp, rising in frequency. The data set contains signals obtained from a variety of different aspect angles, spanning 90 degrees for the cylinder and 180 degrees for the rock.\n",
    "\n",
    "Each pattern is a set of 60 numbers in the range 0.0 to 1.0. Each number represents the energy within a particular frequency band, integrated over a certain period of time. The integration aperture for higher frequencies occur later in time, since these frequencies are transmitted later during the chirp.\n",
    "\n",
    "The label associated with each record contains the letter \"R\" if the object is a rock and \"M\" if it is a mine (metal cylinder). The numbers in the labels are in increasing order of aspect angle, but they do not encode the angle directly."
   ]
  },
  {
   "cell_type": "markdown",
   "metadata": {},
   "source": [
    "# 1. Import all the necessary files"
   ]
  },
  {
   "cell_type": "code",
   "execution_count": 1,
   "metadata": {
    "collapsed": true
   },
   "outputs": [],
   "source": [
    "import pandas as pd\n",
    "import numpy as np\n",
    "import matplotlib.pyplot as plt\n",
    "%matplotlib inline\n",
    "import seaborn as sns\n",
    "\n",
    "from sklearn.linear_model import LinearRegression\n",
    "\n",
    "from sklearn.metrics import accuracy_score, roc_auc_score,confusion_matrix,classification_report\n",
    "from sklearn.model_selection import train_test_split\n",
    "from sklearn.metrics import f1_score\n",
    "\n",
    "from sklearn.svm import LinearSVC\n",
    "from sklearn.svm import SVC\n",
    "from sklearn.pipeline import Pipeline\n",
    "import os"
   ]
  },
  {
   "cell_type": "code",
   "execution_count": 2,
   "metadata": {},
   "outputs": [
    {
     "data": {
      "text/html": [
       "<div>\n",
       "<style>\n",
       "    .dataframe thead tr:only-child th {\n",
       "        text-align: right;\n",
       "    }\n",
       "\n",
       "    .dataframe thead th {\n",
       "        text-align: left;\n",
       "    }\n",
       "\n",
       "    .dataframe tbody tr th {\n",
       "        vertical-align: top;\n",
       "    }\n",
       "</style>\n",
       "<table border=\"1\" class=\"dataframe\">\n",
       "  <thead>\n",
       "    <tr style=\"text-align: right;\">\n",
       "      <th></th>\n",
       "      <th>0</th>\n",
       "      <th>1</th>\n",
       "      <th>2</th>\n",
       "      <th>3</th>\n",
       "      <th>4</th>\n",
       "      <th>5</th>\n",
       "      <th>6</th>\n",
       "      <th>7</th>\n",
       "      <th>8</th>\n",
       "      <th>9</th>\n",
       "      <th>...</th>\n",
       "      <th>51</th>\n",
       "      <th>52</th>\n",
       "      <th>53</th>\n",
       "      <th>54</th>\n",
       "      <th>55</th>\n",
       "      <th>56</th>\n",
       "      <th>57</th>\n",
       "      <th>58</th>\n",
       "      <th>59</th>\n",
       "      <th>60</th>\n",
       "    </tr>\n",
       "  </thead>\n",
       "  <tbody>\n",
       "    <tr>\n",
       "      <th>0</th>\n",
       "      <td>0.0200</td>\n",
       "      <td>0.0371</td>\n",
       "      <td>0.0428</td>\n",
       "      <td>0.0207</td>\n",
       "      <td>0.0954</td>\n",
       "      <td>0.0986</td>\n",
       "      <td>0.1539</td>\n",
       "      <td>0.1601</td>\n",
       "      <td>0.3109</td>\n",
       "      <td>0.2111</td>\n",
       "      <td>...</td>\n",
       "      <td>0.0027</td>\n",
       "      <td>0.0065</td>\n",
       "      <td>0.0159</td>\n",
       "      <td>0.0072</td>\n",
       "      <td>0.0167</td>\n",
       "      <td>0.0180</td>\n",
       "      <td>0.0084</td>\n",
       "      <td>0.0090</td>\n",
       "      <td>0.0032</td>\n",
       "      <td>R</td>\n",
       "    </tr>\n",
       "    <tr>\n",
       "      <th>1</th>\n",
       "      <td>0.0453</td>\n",
       "      <td>0.0523</td>\n",
       "      <td>0.0843</td>\n",
       "      <td>0.0689</td>\n",
       "      <td>0.1183</td>\n",
       "      <td>0.2583</td>\n",
       "      <td>0.2156</td>\n",
       "      <td>0.3481</td>\n",
       "      <td>0.3337</td>\n",
       "      <td>0.2872</td>\n",
       "      <td>...</td>\n",
       "      <td>0.0084</td>\n",
       "      <td>0.0089</td>\n",
       "      <td>0.0048</td>\n",
       "      <td>0.0094</td>\n",
       "      <td>0.0191</td>\n",
       "      <td>0.0140</td>\n",
       "      <td>0.0049</td>\n",
       "      <td>0.0052</td>\n",
       "      <td>0.0044</td>\n",
       "      <td>R</td>\n",
       "    </tr>\n",
       "    <tr>\n",
       "      <th>2</th>\n",
       "      <td>0.0262</td>\n",
       "      <td>0.0582</td>\n",
       "      <td>0.1099</td>\n",
       "      <td>0.1083</td>\n",
       "      <td>0.0974</td>\n",
       "      <td>0.2280</td>\n",
       "      <td>0.2431</td>\n",
       "      <td>0.3771</td>\n",
       "      <td>0.5598</td>\n",
       "      <td>0.6194</td>\n",
       "      <td>...</td>\n",
       "      <td>0.0232</td>\n",
       "      <td>0.0166</td>\n",
       "      <td>0.0095</td>\n",
       "      <td>0.0180</td>\n",
       "      <td>0.0244</td>\n",
       "      <td>0.0316</td>\n",
       "      <td>0.0164</td>\n",
       "      <td>0.0095</td>\n",
       "      <td>0.0078</td>\n",
       "      <td>R</td>\n",
       "    </tr>\n",
       "    <tr>\n",
       "      <th>3</th>\n",
       "      <td>0.0100</td>\n",
       "      <td>0.0171</td>\n",
       "      <td>0.0623</td>\n",
       "      <td>0.0205</td>\n",
       "      <td>0.0205</td>\n",
       "      <td>0.0368</td>\n",
       "      <td>0.1098</td>\n",
       "      <td>0.1276</td>\n",
       "      <td>0.0598</td>\n",
       "      <td>0.1264</td>\n",
       "      <td>...</td>\n",
       "      <td>0.0121</td>\n",
       "      <td>0.0036</td>\n",
       "      <td>0.0150</td>\n",
       "      <td>0.0085</td>\n",
       "      <td>0.0073</td>\n",
       "      <td>0.0050</td>\n",
       "      <td>0.0044</td>\n",
       "      <td>0.0040</td>\n",
       "      <td>0.0117</td>\n",
       "      <td>R</td>\n",
       "    </tr>\n",
       "    <tr>\n",
       "      <th>4</th>\n",
       "      <td>0.0762</td>\n",
       "      <td>0.0666</td>\n",
       "      <td>0.0481</td>\n",
       "      <td>0.0394</td>\n",
       "      <td>0.0590</td>\n",
       "      <td>0.0649</td>\n",
       "      <td>0.1209</td>\n",
       "      <td>0.2467</td>\n",
       "      <td>0.3564</td>\n",
       "      <td>0.4459</td>\n",
       "      <td>...</td>\n",
       "      <td>0.0031</td>\n",
       "      <td>0.0054</td>\n",
       "      <td>0.0105</td>\n",
       "      <td>0.0110</td>\n",
       "      <td>0.0015</td>\n",
       "      <td>0.0072</td>\n",
       "      <td>0.0048</td>\n",
       "      <td>0.0107</td>\n",
       "      <td>0.0094</td>\n",
       "      <td>R</td>\n",
       "    </tr>\n",
       "    <tr>\n",
       "      <th>5</th>\n",
       "      <td>0.0286</td>\n",
       "      <td>0.0453</td>\n",
       "      <td>0.0277</td>\n",
       "      <td>0.0174</td>\n",
       "      <td>0.0384</td>\n",
       "      <td>0.0990</td>\n",
       "      <td>0.1201</td>\n",
       "      <td>0.1833</td>\n",
       "      <td>0.2105</td>\n",
       "      <td>0.3039</td>\n",
       "      <td>...</td>\n",
       "      <td>0.0045</td>\n",
       "      <td>0.0014</td>\n",
       "      <td>0.0038</td>\n",
       "      <td>0.0013</td>\n",
       "      <td>0.0089</td>\n",
       "      <td>0.0057</td>\n",
       "      <td>0.0027</td>\n",
       "      <td>0.0051</td>\n",
       "      <td>0.0062</td>\n",
       "      <td>R</td>\n",
       "    </tr>\n",
       "    <tr>\n",
       "      <th>6</th>\n",
       "      <td>0.0317</td>\n",
       "      <td>0.0956</td>\n",
       "      <td>0.1321</td>\n",
       "      <td>0.1408</td>\n",
       "      <td>0.1674</td>\n",
       "      <td>0.1710</td>\n",
       "      <td>0.0731</td>\n",
       "      <td>0.1401</td>\n",
       "      <td>0.2083</td>\n",
       "      <td>0.3513</td>\n",
       "      <td>...</td>\n",
       "      <td>0.0201</td>\n",
       "      <td>0.0248</td>\n",
       "      <td>0.0131</td>\n",
       "      <td>0.0070</td>\n",
       "      <td>0.0138</td>\n",
       "      <td>0.0092</td>\n",
       "      <td>0.0143</td>\n",
       "      <td>0.0036</td>\n",
       "      <td>0.0103</td>\n",
       "      <td>R</td>\n",
       "    </tr>\n",
       "    <tr>\n",
       "      <th>7</th>\n",
       "      <td>0.0519</td>\n",
       "      <td>0.0548</td>\n",
       "      <td>0.0842</td>\n",
       "      <td>0.0319</td>\n",
       "      <td>0.1158</td>\n",
       "      <td>0.0922</td>\n",
       "      <td>0.1027</td>\n",
       "      <td>0.0613</td>\n",
       "      <td>0.1465</td>\n",
       "      <td>0.2838</td>\n",
       "      <td>...</td>\n",
       "      <td>0.0081</td>\n",
       "      <td>0.0120</td>\n",
       "      <td>0.0045</td>\n",
       "      <td>0.0121</td>\n",
       "      <td>0.0097</td>\n",
       "      <td>0.0085</td>\n",
       "      <td>0.0047</td>\n",
       "      <td>0.0048</td>\n",
       "      <td>0.0053</td>\n",
       "      <td>R</td>\n",
       "    </tr>\n",
       "    <tr>\n",
       "      <th>8</th>\n",
       "      <td>0.0223</td>\n",
       "      <td>0.0375</td>\n",
       "      <td>0.0484</td>\n",
       "      <td>0.0475</td>\n",
       "      <td>0.0647</td>\n",
       "      <td>0.0591</td>\n",
       "      <td>0.0753</td>\n",
       "      <td>0.0098</td>\n",
       "      <td>0.0684</td>\n",
       "      <td>0.1487</td>\n",
       "      <td>...</td>\n",
       "      <td>0.0145</td>\n",
       "      <td>0.0128</td>\n",
       "      <td>0.0145</td>\n",
       "      <td>0.0058</td>\n",
       "      <td>0.0049</td>\n",
       "      <td>0.0065</td>\n",
       "      <td>0.0093</td>\n",
       "      <td>0.0059</td>\n",
       "      <td>0.0022</td>\n",
       "      <td>R</td>\n",
       "    </tr>\n",
       "    <tr>\n",
       "      <th>9</th>\n",
       "      <td>0.0164</td>\n",
       "      <td>0.0173</td>\n",
       "      <td>0.0347</td>\n",
       "      <td>0.0070</td>\n",
       "      <td>0.0187</td>\n",
       "      <td>0.0671</td>\n",
       "      <td>0.1056</td>\n",
       "      <td>0.0697</td>\n",
       "      <td>0.0962</td>\n",
       "      <td>0.0251</td>\n",
       "      <td>...</td>\n",
       "      <td>0.0090</td>\n",
       "      <td>0.0223</td>\n",
       "      <td>0.0179</td>\n",
       "      <td>0.0084</td>\n",
       "      <td>0.0068</td>\n",
       "      <td>0.0032</td>\n",
       "      <td>0.0035</td>\n",
       "      <td>0.0056</td>\n",
       "      <td>0.0040</td>\n",
       "      <td>R</td>\n",
       "    </tr>\n",
       "    <tr>\n",
       "      <th>10</th>\n",
       "      <td>0.0039</td>\n",
       "      <td>0.0063</td>\n",
       "      <td>0.0152</td>\n",
       "      <td>0.0336</td>\n",
       "      <td>0.0310</td>\n",
       "      <td>0.0284</td>\n",
       "      <td>0.0396</td>\n",
       "      <td>0.0272</td>\n",
       "      <td>0.0323</td>\n",
       "      <td>0.0452</td>\n",
       "      <td>...</td>\n",
       "      <td>0.0062</td>\n",
       "      <td>0.0120</td>\n",
       "      <td>0.0052</td>\n",
       "      <td>0.0056</td>\n",
       "      <td>0.0093</td>\n",
       "      <td>0.0042</td>\n",
       "      <td>0.0003</td>\n",
       "      <td>0.0053</td>\n",
       "      <td>0.0036</td>\n",
       "      <td>R</td>\n",
       "    </tr>\n",
       "    <tr>\n",
       "      <th>11</th>\n",
       "      <td>0.0123</td>\n",
       "      <td>0.0309</td>\n",
       "      <td>0.0169</td>\n",
       "      <td>0.0313</td>\n",
       "      <td>0.0358</td>\n",
       "      <td>0.0102</td>\n",
       "      <td>0.0182</td>\n",
       "      <td>0.0579</td>\n",
       "      <td>0.1122</td>\n",
       "      <td>0.0835</td>\n",
       "      <td>...</td>\n",
       "      <td>0.0133</td>\n",
       "      <td>0.0265</td>\n",
       "      <td>0.0224</td>\n",
       "      <td>0.0074</td>\n",
       "      <td>0.0118</td>\n",
       "      <td>0.0026</td>\n",
       "      <td>0.0092</td>\n",
       "      <td>0.0009</td>\n",
       "      <td>0.0044</td>\n",
       "      <td>R</td>\n",
       "    </tr>\n",
       "    <tr>\n",
       "      <th>12</th>\n",
       "      <td>0.0079</td>\n",
       "      <td>0.0086</td>\n",
       "      <td>0.0055</td>\n",
       "      <td>0.0250</td>\n",
       "      <td>0.0344</td>\n",
       "      <td>0.0546</td>\n",
       "      <td>0.0528</td>\n",
       "      <td>0.0958</td>\n",
       "      <td>0.1009</td>\n",
       "      <td>0.1240</td>\n",
       "      <td>...</td>\n",
       "      <td>0.0176</td>\n",
       "      <td>0.0127</td>\n",
       "      <td>0.0088</td>\n",
       "      <td>0.0098</td>\n",
       "      <td>0.0019</td>\n",
       "      <td>0.0059</td>\n",
       "      <td>0.0058</td>\n",
       "      <td>0.0059</td>\n",
       "      <td>0.0032</td>\n",
       "      <td>R</td>\n",
       "    </tr>\n",
       "    <tr>\n",
       "      <th>13</th>\n",
       "      <td>0.0090</td>\n",
       "      <td>0.0062</td>\n",
       "      <td>0.0253</td>\n",
       "      <td>0.0489</td>\n",
       "      <td>0.1197</td>\n",
       "      <td>0.1589</td>\n",
       "      <td>0.1392</td>\n",
       "      <td>0.0987</td>\n",
       "      <td>0.0955</td>\n",
       "      <td>0.1895</td>\n",
       "      <td>...</td>\n",
       "      <td>0.0059</td>\n",
       "      <td>0.0095</td>\n",
       "      <td>0.0194</td>\n",
       "      <td>0.0080</td>\n",
       "      <td>0.0152</td>\n",
       "      <td>0.0158</td>\n",
       "      <td>0.0053</td>\n",
       "      <td>0.0189</td>\n",
       "      <td>0.0102</td>\n",
       "      <td>R</td>\n",
       "    </tr>\n",
       "    <tr>\n",
       "      <th>14</th>\n",
       "      <td>0.0124</td>\n",
       "      <td>0.0433</td>\n",
       "      <td>0.0604</td>\n",
       "      <td>0.0449</td>\n",
       "      <td>0.0597</td>\n",
       "      <td>0.0355</td>\n",
       "      <td>0.0531</td>\n",
       "      <td>0.0343</td>\n",
       "      <td>0.1052</td>\n",
       "      <td>0.2120</td>\n",
       "      <td>...</td>\n",
       "      <td>0.0083</td>\n",
       "      <td>0.0057</td>\n",
       "      <td>0.0174</td>\n",
       "      <td>0.0188</td>\n",
       "      <td>0.0054</td>\n",
       "      <td>0.0114</td>\n",
       "      <td>0.0196</td>\n",
       "      <td>0.0147</td>\n",
       "      <td>0.0062</td>\n",
       "      <td>R</td>\n",
       "    </tr>\n",
       "    <tr>\n",
       "      <th>15</th>\n",
       "      <td>0.0298</td>\n",
       "      <td>0.0615</td>\n",
       "      <td>0.0650</td>\n",
       "      <td>0.0921</td>\n",
       "      <td>0.1615</td>\n",
       "      <td>0.2294</td>\n",
       "      <td>0.2176</td>\n",
       "      <td>0.2033</td>\n",
       "      <td>0.1459</td>\n",
       "      <td>0.0852</td>\n",
       "      <td>...</td>\n",
       "      <td>0.0031</td>\n",
       "      <td>0.0153</td>\n",
       "      <td>0.0071</td>\n",
       "      <td>0.0212</td>\n",
       "      <td>0.0076</td>\n",
       "      <td>0.0152</td>\n",
       "      <td>0.0049</td>\n",
       "      <td>0.0200</td>\n",
       "      <td>0.0073</td>\n",
       "      <td>R</td>\n",
       "    </tr>\n",
       "    <tr>\n",
       "      <th>16</th>\n",
       "      <td>0.0352</td>\n",
       "      <td>0.0116</td>\n",
       "      <td>0.0191</td>\n",
       "      <td>0.0469</td>\n",
       "      <td>0.0737</td>\n",
       "      <td>0.1185</td>\n",
       "      <td>0.1683</td>\n",
       "      <td>0.1541</td>\n",
       "      <td>0.1466</td>\n",
       "      <td>0.2912</td>\n",
       "      <td>...</td>\n",
       "      <td>0.0346</td>\n",
       "      <td>0.0158</td>\n",
       "      <td>0.0154</td>\n",
       "      <td>0.0109</td>\n",
       "      <td>0.0048</td>\n",
       "      <td>0.0095</td>\n",
       "      <td>0.0015</td>\n",
       "      <td>0.0073</td>\n",
       "      <td>0.0067</td>\n",
       "      <td>R</td>\n",
       "    </tr>\n",
       "    <tr>\n",
       "      <th>17</th>\n",
       "      <td>0.0192</td>\n",
       "      <td>0.0607</td>\n",
       "      <td>0.0378</td>\n",
       "      <td>0.0774</td>\n",
       "      <td>0.1388</td>\n",
       "      <td>0.0809</td>\n",
       "      <td>0.0568</td>\n",
       "      <td>0.0219</td>\n",
       "      <td>0.1037</td>\n",
       "      <td>0.1186</td>\n",
       "      <td>...</td>\n",
       "      <td>0.0331</td>\n",
       "      <td>0.0131</td>\n",
       "      <td>0.0120</td>\n",
       "      <td>0.0108</td>\n",
       "      <td>0.0024</td>\n",
       "      <td>0.0045</td>\n",
       "      <td>0.0037</td>\n",
       "      <td>0.0112</td>\n",
       "      <td>0.0075</td>\n",
       "      <td>R</td>\n",
       "    </tr>\n",
       "    <tr>\n",
       "      <th>18</th>\n",
       "      <td>0.0270</td>\n",
       "      <td>0.0092</td>\n",
       "      <td>0.0145</td>\n",
       "      <td>0.0278</td>\n",
       "      <td>0.0412</td>\n",
       "      <td>0.0757</td>\n",
       "      <td>0.1026</td>\n",
       "      <td>0.1138</td>\n",
       "      <td>0.0794</td>\n",
       "      <td>0.1520</td>\n",
       "      <td>...</td>\n",
       "      <td>0.0084</td>\n",
       "      <td>0.0010</td>\n",
       "      <td>0.0018</td>\n",
       "      <td>0.0068</td>\n",
       "      <td>0.0039</td>\n",
       "      <td>0.0120</td>\n",
       "      <td>0.0132</td>\n",
       "      <td>0.0070</td>\n",
       "      <td>0.0088</td>\n",
       "      <td>R</td>\n",
       "    </tr>\n",
       "    <tr>\n",
       "      <th>19</th>\n",
       "      <td>0.0126</td>\n",
       "      <td>0.0149</td>\n",
       "      <td>0.0641</td>\n",
       "      <td>0.1732</td>\n",
       "      <td>0.2565</td>\n",
       "      <td>0.2559</td>\n",
       "      <td>0.2947</td>\n",
       "      <td>0.4110</td>\n",
       "      <td>0.4983</td>\n",
       "      <td>0.5920</td>\n",
       "      <td>...</td>\n",
       "      <td>0.0092</td>\n",
       "      <td>0.0035</td>\n",
       "      <td>0.0098</td>\n",
       "      <td>0.0121</td>\n",
       "      <td>0.0006</td>\n",
       "      <td>0.0181</td>\n",
       "      <td>0.0094</td>\n",
       "      <td>0.0116</td>\n",
       "      <td>0.0063</td>\n",
       "      <td>R</td>\n",
       "    </tr>\n",
       "    <tr>\n",
       "      <th>20</th>\n",
       "      <td>0.0473</td>\n",
       "      <td>0.0509</td>\n",
       "      <td>0.0819</td>\n",
       "      <td>0.1252</td>\n",
       "      <td>0.1783</td>\n",
       "      <td>0.3070</td>\n",
       "      <td>0.3008</td>\n",
       "      <td>0.2362</td>\n",
       "      <td>0.3830</td>\n",
       "      <td>0.3759</td>\n",
       "      <td>...</td>\n",
       "      <td>0.0193</td>\n",
       "      <td>0.0118</td>\n",
       "      <td>0.0064</td>\n",
       "      <td>0.0042</td>\n",
       "      <td>0.0054</td>\n",
       "      <td>0.0049</td>\n",
       "      <td>0.0082</td>\n",
       "      <td>0.0028</td>\n",
       "      <td>0.0027</td>\n",
       "      <td>R</td>\n",
       "    </tr>\n",
       "    <tr>\n",
       "      <th>21</th>\n",
       "      <td>0.0664</td>\n",
       "      <td>0.0575</td>\n",
       "      <td>0.0842</td>\n",
       "      <td>0.0372</td>\n",
       "      <td>0.0458</td>\n",
       "      <td>0.0771</td>\n",
       "      <td>0.0771</td>\n",
       "      <td>0.1130</td>\n",
       "      <td>0.2353</td>\n",
       "      <td>0.1838</td>\n",
       "      <td>...</td>\n",
       "      <td>0.0141</td>\n",
       "      <td>0.0190</td>\n",
       "      <td>0.0043</td>\n",
       "      <td>0.0036</td>\n",
       "      <td>0.0026</td>\n",
       "      <td>0.0024</td>\n",
       "      <td>0.0162</td>\n",
       "      <td>0.0109</td>\n",
       "      <td>0.0079</td>\n",
       "      <td>R</td>\n",
       "    </tr>\n",
       "    <tr>\n",
       "      <th>22</th>\n",
       "      <td>0.0099</td>\n",
       "      <td>0.0484</td>\n",
       "      <td>0.0299</td>\n",
       "      <td>0.0297</td>\n",
       "      <td>0.0652</td>\n",
       "      <td>0.1077</td>\n",
       "      <td>0.2363</td>\n",
       "      <td>0.2385</td>\n",
       "      <td>0.0075</td>\n",
       "      <td>0.1882</td>\n",
       "      <td>...</td>\n",
       "      <td>0.0173</td>\n",
       "      <td>0.0149</td>\n",
       "      <td>0.0115</td>\n",
       "      <td>0.0202</td>\n",
       "      <td>0.0139</td>\n",
       "      <td>0.0029</td>\n",
       "      <td>0.0160</td>\n",
       "      <td>0.0106</td>\n",
       "      <td>0.0134</td>\n",
       "      <td>R</td>\n",
       "    </tr>\n",
       "    <tr>\n",
       "      <th>23</th>\n",
       "      <td>0.0115</td>\n",
       "      <td>0.0150</td>\n",
       "      <td>0.0136</td>\n",
       "      <td>0.0076</td>\n",
       "      <td>0.0211</td>\n",
       "      <td>0.1058</td>\n",
       "      <td>0.1023</td>\n",
       "      <td>0.0440</td>\n",
       "      <td>0.0931</td>\n",
       "      <td>0.0734</td>\n",
       "      <td>...</td>\n",
       "      <td>0.0091</td>\n",
       "      <td>0.0016</td>\n",
       "      <td>0.0084</td>\n",
       "      <td>0.0064</td>\n",
       "      <td>0.0026</td>\n",
       "      <td>0.0029</td>\n",
       "      <td>0.0037</td>\n",
       "      <td>0.0070</td>\n",
       "      <td>0.0041</td>\n",
       "      <td>R</td>\n",
       "    </tr>\n",
       "    <tr>\n",
       "      <th>24</th>\n",
       "      <td>0.0293</td>\n",
       "      <td>0.0644</td>\n",
       "      <td>0.0390</td>\n",
       "      <td>0.0173</td>\n",
       "      <td>0.0476</td>\n",
       "      <td>0.0816</td>\n",
       "      <td>0.0993</td>\n",
       "      <td>0.0315</td>\n",
       "      <td>0.0736</td>\n",
       "      <td>0.0860</td>\n",
       "      <td>...</td>\n",
       "      <td>0.0035</td>\n",
       "      <td>0.0052</td>\n",
       "      <td>0.0083</td>\n",
       "      <td>0.0078</td>\n",
       "      <td>0.0075</td>\n",
       "      <td>0.0105</td>\n",
       "      <td>0.0160</td>\n",
       "      <td>0.0095</td>\n",
       "      <td>0.0011</td>\n",
       "      <td>R</td>\n",
       "    </tr>\n",
       "    <tr>\n",
       "      <th>25</th>\n",
       "      <td>0.0201</td>\n",
       "      <td>0.0026</td>\n",
       "      <td>0.0138</td>\n",
       "      <td>0.0062</td>\n",
       "      <td>0.0133</td>\n",
       "      <td>0.0151</td>\n",
       "      <td>0.0541</td>\n",
       "      <td>0.0210</td>\n",
       "      <td>0.0505</td>\n",
       "      <td>0.1097</td>\n",
       "      <td>...</td>\n",
       "      <td>0.0108</td>\n",
       "      <td>0.0070</td>\n",
       "      <td>0.0063</td>\n",
       "      <td>0.0030</td>\n",
       "      <td>0.0011</td>\n",
       "      <td>0.0007</td>\n",
       "      <td>0.0024</td>\n",
       "      <td>0.0057</td>\n",
       "      <td>0.0044</td>\n",
       "      <td>R</td>\n",
       "    </tr>\n",
       "    <tr>\n",
       "      <th>26</th>\n",
       "      <td>0.0151</td>\n",
       "      <td>0.0320</td>\n",
       "      <td>0.0599</td>\n",
       "      <td>0.1050</td>\n",
       "      <td>0.1163</td>\n",
       "      <td>0.1734</td>\n",
       "      <td>0.1679</td>\n",
       "      <td>0.1119</td>\n",
       "      <td>0.0889</td>\n",
       "      <td>0.1205</td>\n",
       "      <td>...</td>\n",
       "      <td>0.0061</td>\n",
       "      <td>0.0015</td>\n",
       "      <td>0.0084</td>\n",
       "      <td>0.0128</td>\n",
       "      <td>0.0054</td>\n",
       "      <td>0.0011</td>\n",
       "      <td>0.0019</td>\n",
       "      <td>0.0023</td>\n",
       "      <td>0.0062</td>\n",
       "      <td>R</td>\n",
       "    </tr>\n",
       "    <tr>\n",
       "      <th>27</th>\n",
       "      <td>0.0177</td>\n",
       "      <td>0.0300</td>\n",
       "      <td>0.0288</td>\n",
       "      <td>0.0394</td>\n",
       "      <td>0.0630</td>\n",
       "      <td>0.0526</td>\n",
       "      <td>0.0688</td>\n",
       "      <td>0.0633</td>\n",
       "      <td>0.0624</td>\n",
       "      <td>0.0613</td>\n",
       "      <td>...</td>\n",
       "      <td>0.0102</td>\n",
       "      <td>0.0122</td>\n",
       "      <td>0.0044</td>\n",
       "      <td>0.0075</td>\n",
       "      <td>0.0124</td>\n",
       "      <td>0.0099</td>\n",
       "      <td>0.0057</td>\n",
       "      <td>0.0032</td>\n",
       "      <td>0.0019</td>\n",
       "      <td>R</td>\n",
       "    </tr>\n",
       "    <tr>\n",
       "      <th>28</th>\n",
       "      <td>0.0100</td>\n",
       "      <td>0.0275</td>\n",
       "      <td>0.0190</td>\n",
       "      <td>0.0371</td>\n",
       "      <td>0.0416</td>\n",
       "      <td>0.0201</td>\n",
       "      <td>0.0314</td>\n",
       "      <td>0.0651</td>\n",
       "      <td>0.1896</td>\n",
       "      <td>0.2668</td>\n",
       "      <td>...</td>\n",
       "      <td>0.0088</td>\n",
       "      <td>0.0104</td>\n",
       "      <td>0.0036</td>\n",
       "      <td>0.0088</td>\n",
       "      <td>0.0047</td>\n",
       "      <td>0.0117</td>\n",
       "      <td>0.0020</td>\n",
       "      <td>0.0091</td>\n",
       "      <td>0.0058</td>\n",
       "      <td>R</td>\n",
       "    </tr>\n",
       "    <tr>\n",
       "      <th>29</th>\n",
       "      <td>0.0189</td>\n",
       "      <td>0.0308</td>\n",
       "      <td>0.0197</td>\n",
       "      <td>0.0622</td>\n",
       "      <td>0.0080</td>\n",
       "      <td>0.0789</td>\n",
       "      <td>0.1440</td>\n",
       "      <td>0.1451</td>\n",
       "      <td>0.1789</td>\n",
       "      <td>0.2522</td>\n",
       "      <td>...</td>\n",
       "      <td>0.0038</td>\n",
       "      <td>0.0096</td>\n",
       "      <td>0.0142</td>\n",
       "      <td>0.0190</td>\n",
       "      <td>0.0140</td>\n",
       "      <td>0.0099</td>\n",
       "      <td>0.0092</td>\n",
       "      <td>0.0052</td>\n",
       "      <td>0.0075</td>\n",
       "      <td>R</td>\n",
       "    </tr>\n",
       "    <tr>\n",
       "      <th>...</th>\n",
       "      <td>...</td>\n",
       "      <td>...</td>\n",
       "      <td>...</td>\n",
       "      <td>...</td>\n",
       "      <td>...</td>\n",
       "      <td>...</td>\n",
       "      <td>...</td>\n",
       "      <td>...</td>\n",
       "      <td>...</td>\n",
       "      <td>...</td>\n",
       "      <td>...</td>\n",
       "      <td>...</td>\n",
       "      <td>...</td>\n",
       "      <td>...</td>\n",
       "      <td>...</td>\n",
       "      <td>...</td>\n",
       "      <td>...</td>\n",
       "      <td>...</td>\n",
       "      <td>...</td>\n",
       "      <td>...</td>\n",
       "      <td>...</td>\n",
       "    </tr>\n",
       "    <tr>\n",
       "      <th>178</th>\n",
       "      <td>0.0197</td>\n",
       "      <td>0.0394</td>\n",
       "      <td>0.0384</td>\n",
       "      <td>0.0076</td>\n",
       "      <td>0.0251</td>\n",
       "      <td>0.0629</td>\n",
       "      <td>0.0747</td>\n",
       "      <td>0.0578</td>\n",
       "      <td>0.1357</td>\n",
       "      <td>0.1695</td>\n",
       "      <td>...</td>\n",
       "      <td>0.0134</td>\n",
       "      <td>0.0097</td>\n",
       "      <td>0.0042</td>\n",
       "      <td>0.0058</td>\n",
       "      <td>0.0072</td>\n",
       "      <td>0.0041</td>\n",
       "      <td>0.0045</td>\n",
       "      <td>0.0047</td>\n",
       "      <td>0.0054</td>\n",
       "      <td>M</td>\n",
       "    </tr>\n",
       "    <tr>\n",
       "      <th>179</th>\n",
       "      <td>0.0394</td>\n",
       "      <td>0.0420</td>\n",
       "      <td>0.0446</td>\n",
       "      <td>0.0551</td>\n",
       "      <td>0.0597</td>\n",
       "      <td>0.1416</td>\n",
       "      <td>0.0956</td>\n",
       "      <td>0.0802</td>\n",
       "      <td>0.1618</td>\n",
       "      <td>0.2558</td>\n",
       "      <td>...</td>\n",
       "      <td>0.0146</td>\n",
       "      <td>0.0040</td>\n",
       "      <td>0.0114</td>\n",
       "      <td>0.0032</td>\n",
       "      <td>0.0062</td>\n",
       "      <td>0.0101</td>\n",
       "      <td>0.0068</td>\n",
       "      <td>0.0053</td>\n",
       "      <td>0.0087</td>\n",
       "      <td>M</td>\n",
       "    </tr>\n",
       "    <tr>\n",
       "      <th>180</th>\n",
       "      <td>0.0310</td>\n",
       "      <td>0.0221</td>\n",
       "      <td>0.0433</td>\n",
       "      <td>0.0191</td>\n",
       "      <td>0.0964</td>\n",
       "      <td>0.1827</td>\n",
       "      <td>0.1106</td>\n",
       "      <td>0.1702</td>\n",
       "      <td>0.2804</td>\n",
       "      <td>0.4432</td>\n",
       "      <td>...</td>\n",
       "      <td>0.0204</td>\n",
       "      <td>0.0059</td>\n",
       "      <td>0.0053</td>\n",
       "      <td>0.0079</td>\n",
       "      <td>0.0037</td>\n",
       "      <td>0.0015</td>\n",
       "      <td>0.0056</td>\n",
       "      <td>0.0067</td>\n",
       "      <td>0.0054</td>\n",
       "      <td>M</td>\n",
       "    </tr>\n",
       "    <tr>\n",
       "      <th>181</th>\n",
       "      <td>0.0423</td>\n",
       "      <td>0.0321</td>\n",
       "      <td>0.0709</td>\n",
       "      <td>0.0108</td>\n",
       "      <td>0.1070</td>\n",
       "      <td>0.0973</td>\n",
       "      <td>0.0961</td>\n",
       "      <td>0.1323</td>\n",
       "      <td>0.2462</td>\n",
       "      <td>0.2696</td>\n",
       "      <td>...</td>\n",
       "      <td>0.0176</td>\n",
       "      <td>0.0035</td>\n",
       "      <td>0.0093</td>\n",
       "      <td>0.0121</td>\n",
       "      <td>0.0075</td>\n",
       "      <td>0.0056</td>\n",
       "      <td>0.0021</td>\n",
       "      <td>0.0043</td>\n",
       "      <td>0.0017</td>\n",
       "      <td>M</td>\n",
       "    </tr>\n",
       "    <tr>\n",
       "      <th>182</th>\n",
       "      <td>0.0095</td>\n",
       "      <td>0.0308</td>\n",
       "      <td>0.0539</td>\n",
       "      <td>0.0411</td>\n",
       "      <td>0.0613</td>\n",
       "      <td>0.1039</td>\n",
       "      <td>0.1016</td>\n",
       "      <td>0.1394</td>\n",
       "      <td>0.2592</td>\n",
       "      <td>0.3745</td>\n",
       "      <td>...</td>\n",
       "      <td>0.0181</td>\n",
       "      <td>0.0019</td>\n",
       "      <td>0.0102</td>\n",
       "      <td>0.0133</td>\n",
       "      <td>0.0040</td>\n",
       "      <td>0.0042</td>\n",
       "      <td>0.0030</td>\n",
       "      <td>0.0031</td>\n",
       "      <td>0.0033</td>\n",
       "      <td>M</td>\n",
       "    </tr>\n",
       "    <tr>\n",
       "      <th>183</th>\n",
       "      <td>0.0096</td>\n",
       "      <td>0.0404</td>\n",
       "      <td>0.0682</td>\n",
       "      <td>0.0688</td>\n",
       "      <td>0.0887</td>\n",
       "      <td>0.0932</td>\n",
       "      <td>0.0955</td>\n",
       "      <td>0.2140</td>\n",
       "      <td>0.2546</td>\n",
       "      <td>0.2952</td>\n",
       "      <td>...</td>\n",
       "      <td>0.0237</td>\n",
       "      <td>0.0078</td>\n",
       "      <td>0.0144</td>\n",
       "      <td>0.0170</td>\n",
       "      <td>0.0012</td>\n",
       "      <td>0.0109</td>\n",
       "      <td>0.0036</td>\n",
       "      <td>0.0043</td>\n",
       "      <td>0.0018</td>\n",
       "      <td>M</td>\n",
       "    </tr>\n",
       "    <tr>\n",
       "      <th>184</th>\n",
       "      <td>0.0269</td>\n",
       "      <td>0.0383</td>\n",
       "      <td>0.0505</td>\n",
       "      <td>0.0707</td>\n",
       "      <td>0.1313</td>\n",
       "      <td>0.2103</td>\n",
       "      <td>0.2263</td>\n",
       "      <td>0.2524</td>\n",
       "      <td>0.3595</td>\n",
       "      <td>0.5915</td>\n",
       "      <td>...</td>\n",
       "      <td>0.0167</td>\n",
       "      <td>0.0199</td>\n",
       "      <td>0.0145</td>\n",
       "      <td>0.0081</td>\n",
       "      <td>0.0045</td>\n",
       "      <td>0.0043</td>\n",
       "      <td>0.0027</td>\n",
       "      <td>0.0055</td>\n",
       "      <td>0.0057</td>\n",
       "      <td>M</td>\n",
       "    </tr>\n",
       "    <tr>\n",
       "      <th>185</th>\n",
       "      <td>0.0340</td>\n",
       "      <td>0.0625</td>\n",
       "      <td>0.0381</td>\n",
       "      <td>0.0257</td>\n",
       "      <td>0.0441</td>\n",
       "      <td>0.1027</td>\n",
       "      <td>0.1287</td>\n",
       "      <td>0.1850</td>\n",
       "      <td>0.2647</td>\n",
       "      <td>0.4117</td>\n",
       "      <td>...</td>\n",
       "      <td>0.0141</td>\n",
       "      <td>0.0019</td>\n",
       "      <td>0.0067</td>\n",
       "      <td>0.0099</td>\n",
       "      <td>0.0042</td>\n",
       "      <td>0.0057</td>\n",
       "      <td>0.0051</td>\n",
       "      <td>0.0033</td>\n",
       "      <td>0.0058</td>\n",
       "      <td>M</td>\n",
       "    </tr>\n",
       "    <tr>\n",
       "      <th>186</th>\n",
       "      <td>0.0209</td>\n",
       "      <td>0.0191</td>\n",
       "      <td>0.0411</td>\n",
       "      <td>0.0321</td>\n",
       "      <td>0.0698</td>\n",
       "      <td>0.1579</td>\n",
       "      <td>0.1438</td>\n",
       "      <td>0.1402</td>\n",
       "      <td>0.3048</td>\n",
       "      <td>0.3914</td>\n",
       "      <td>...</td>\n",
       "      <td>0.0078</td>\n",
       "      <td>0.0201</td>\n",
       "      <td>0.0104</td>\n",
       "      <td>0.0039</td>\n",
       "      <td>0.0031</td>\n",
       "      <td>0.0062</td>\n",
       "      <td>0.0087</td>\n",
       "      <td>0.0070</td>\n",
       "      <td>0.0042</td>\n",
       "      <td>M</td>\n",
       "    </tr>\n",
       "    <tr>\n",
       "      <th>187</th>\n",
       "      <td>0.0368</td>\n",
       "      <td>0.0279</td>\n",
       "      <td>0.0103</td>\n",
       "      <td>0.0566</td>\n",
       "      <td>0.0759</td>\n",
       "      <td>0.0679</td>\n",
       "      <td>0.0970</td>\n",
       "      <td>0.1473</td>\n",
       "      <td>0.2164</td>\n",
       "      <td>0.2544</td>\n",
       "      <td>...</td>\n",
       "      <td>0.0105</td>\n",
       "      <td>0.0024</td>\n",
       "      <td>0.0018</td>\n",
       "      <td>0.0057</td>\n",
       "      <td>0.0092</td>\n",
       "      <td>0.0009</td>\n",
       "      <td>0.0086</td>\n",
       "      <td>0.0110</td>\n",
       "      <td>0.0052</td>\n",
       "      <td>M</td>\n",
       "    </tr>\n",
       "    <tr>\n",
       "      <th>188</th>\n",
       "      <td>0.0089</td>\n",
       "      <td>0.0274</td>\n",
       "      <td>0.0248</td>\n",
       "      <td>0.0237</td>\n",
       "      <td>0.0224</td>\n",
       "      <td>0.0845</td>\n",
       "      <td>0.1488</td>\n",
       "      <td>0.1224</td>\n",
       "      <td>0.1569</td>\n",
       "      <td>0.2119</td>\n",
       "      <td>...</td>\n",
       "      <td>0.0096</td>\n",
       "      <td>0.0103</td>\n",
       "      <td>0.0093</td>\n",
       "      <td>0.0025</td>\n",
       "      <td>0.0044</td>\n",
       "      <td>0.0021</td>\n",
       "      <td>0.0069</td>\n",
       "      <td>0.0060</td>\n",
       "      <td>0.0018</td>\n",
       "      <td>M</td>\n",
       "    </tr>\n",
       "    <tr>\n",
       "      <th>189</th>\n",
       "      <td>0.0158</td>\n",
       "      <td>0.0239</td>\n",
       "      <td>0.0150</td>\n",
       "      <td>0.0494</td>\n",
       "      <td>0.0988</td>\n",
       "      <td>0.1425</td>\n",
       "      <td>0.1463</td>\n",
       "      <td>0.1219</td>\n",
       "      <td>0.1697</td>\n",
       "      <td>0.1923</td>\n",
       "      <td>...</td>\n",
       "      <td>0.0121</td>\n",
       "      <td>0.0108</td>\n",
       "      <td>0.0057</td>\n",
       "      <td>0.0028</td>\n",
       "      <td>0.0079</td>\n",
       "      <td>0.0034</td>\n",
       "      <td>0.0046</td>\n",
       "      <td>0.0022</td>\n",
       "      <td>0.0021</td>\n",
       "      <td>M</td>\n",
       "    </tr>\n",
       "    <tr>\n",
       "      <th>190</th>\n",
       "      <td>0.0156</td>\n",
       "      <td>0.0210</td>\n",
       "      <td>0.0282</td>\n",
       "      <td>0.0596</td>\n",
       "      <td>0.0462</td>\n",
       "      <td>0.0779</td>\n",
       "      <td>0.1365</td>\n",
       "      <td>0.0780</td>\n",
       "      <td>0.1038</td>\n",
       "      <td>0.1567</td>\n",
       "      <td>...</td>\n",
       "      <td>0.0150</td>\n",
       "      <td>0.0060</td>\n",
       "      <td>0.0082</td>\n",
       "      <td>0.0091</td>\n",
       "      <td>0.0038</td>\n",
       "      <td>0.0056</td>\n",
       "      <td>0.0056</td>\n",
       "      <td>0.0048</td>\n",
       "      <td>0.0024</td>\n",
       "      <td>M</td>\n",
       "    </tr>\n",
       "    <tr>\n",
       "      <th>191</th>\n",
       "      <td>0.0315</td>\n",
       "      <td>0.0252</td>\n",
       "      <td>0.0167</td>\n",
       "      <td>0.0479</td>\n",
       "      <td>0.0902</td>\n",
       "      <td>0.1057</td>\n",
       "      <td>0.1024</td>\n",
       "      <td>0.1209</td>\n",
       "      <td>0.1241</td>\n",
       "      <td>0.1533</td>\n",
       "      <td>...</td>\n",
       "      <td>0.0108</td>\n",
       "      <td>0.0062</td>\n",
       "      <td>0.0044</td>\n",
       "      <td>0.0072</td>\n",
       "      <td>0.0007</td>\n",
       "      <td>0.0054</td>\n",
       "      <td>0.0035</td>\n",
       "      <td>0.0001</td>\n",
       "      <td>0.0055</td>\n",
       "      <td>M</td>\n",
       "    </tr>\n",
       "    <tr>\n",
       "      <th>192</th>\n",
       "      <td>0.0056</td>\n",
       "      <td>0.0267</td>\n",
       "      <td>0.0221</td>\n",
       "      <td>0.0561</td>\n",
       "      <td>0.0936</td>\n",
       "      <td>0.1146</td>\n",
       "      <td>0.0706</td>\n",
       "      <td>0.0996</td>\n",
       "      <td>0.1673</td>\n",
       "      <td>0.1859</td>\n",
       "      <td>...</td>\n",
       "      <td>0.0072</td>\n",
       "      <td>0.0055</td>\n",
       "      <td>0.0074</td>\n",
       "      <td>0.0068</td>\n",
       "      <td>0.0084</td>\n",
       "      <td>0.0037</td>\n",
       "      <td>0.0024</td>\n",
       "      <td>0.0034</td>\n",
       "      <td>0.0007</td>\n",
       "      <td>M</td>\n",
       "    </tr>\n",
       "    <tr>\n",
       "      <th>193</th>\n",
       "      <td>0.0203</td>\n",
       "      <td>0.0121</td>\n",
       "      <td>0.0380</td>\n",
       "      <td>0.0128</td>\n",
       "      <td>0.0537</td>\n",
       "      <td>0.0874</td>\n",
       "      <td>0.1021</td>\n",
       "      <td>0.0852</td>\n",
       "      <td>0.1136</td>\n",
       "      <td>0.1747</td>\n",
       "      <td>...</td>\n",
       "      <td>0.0134</td>\n",
       "      <td>0.0094</td>\n",
       "      <td>0.0047</td>\n",
       "      <td>0.0045</td>\n",
       "      <td>0.0042</td>\n",
       "      <td>0.0028</td>\n",
       "      <td>0.0036</td>\n",
       "      <td>0.0013</td>\n",
       "      <td>0.0016</td>\n",
       "      <td>M</td>\n",
       "    </tr>\n",
       "    <tr>\n",
       "      <th>194</th>\n",
       "      <td>0.0392</td>\n",
       "      <td>0.0108</td>\n",
       "      <td>0.0267</td>\n",
       "      <td>0.0257</td>\n",
       "      <td>0.0410</td>\n",
       "      <td>0.0491</td>\n",
       "      <td>0.1053</td>\n",
       "      <td>0.1690</td>\n",
       "      <td>0.2105</td>\n",
       "      <td>0.2471</td>\n",
       "      <td>...</td>\n",
       "      <td>0.0083</td>\n",
       "      <td>0.0080</td>\n",
       "      <td>0.0026</td>\n",
       "      <td>0.0079</td>\n",
       "      <td>0.0042</td>\n",
       "      <td>0.0071</td>\n",
       "      <td>0.0044</td>\n",
       "      <td>0.0022</td>\n",
       "      <td>0.0014</td>\n",
       "      <td>M</td>\n",
       "    </tr>\n",
       "    <tr>\n",
       "      <th>195</th>\n",
       "      <td>0.0129</td>\n",
       "      <td>0.0141</td>\n",
       "      <td>0.0309</td>\n",
       "      <td>0.0375</td>\n",
       "      <td>0.0767</td>\n",
       "      <td>0.0787</td>\n",
       "      <td>0.0662</td>\n",
       "      <td>0.1108</td>\n",
       "      <td>0.1777</td>\n",
       "      <td>0.2245</td>\n",
       "      <td>...</td>\n",
       "      <td>0.0124</td>\n",
       "      <td>0.0093</td>\n",
       "      <td>0.0072</td>\n",
       "      <td>0.0019</td>\n",
       "      <td>0.0027</td>\n",
       "      <td>0.0054</td>\n",
       "      <td>0.0017</td>\n",
       "      <td>0.0024</td>\n",
       "      <td>0.0029</td>\n",
       "      <td>M</td>\n",
       "    </tr>\n",
       "    <tr>\n",
       "      <th>196</th>\n",
       "      <td>0.0050</td>\n",
       "      <td>0.0017</td>\n",
       "      <td>0.0270</td>\n",
       "      <td>0.0450</td>\n",
       "      <td>0.0958</td>\n",
       "      <td>0.0830</td>\n",
       "      <td>0.0879</td>\n",
       "      <td>0.1220</td>\n",
       "      <td>0.1977</td>\n",
       "      <td>0.2282</td>\n",
       "      <td>...</td>\n",
       "      <td>0.0165</td>\n",
       "      <td>0.0056</td>\n",
       "      <td>0.0010</td>\n",
       "      <td>0.0027</td>\n",
       "      <td>0.0062</td>\n",
       "      <td>0.0024</td>\n",
       "      <td>0.0063</td>\n",
       "      <td>0.0017</td>\n",
       "      <td>0.0028</td>\n",
       "      <td>M</td>\n",
       "    </tr>\n",
       "    <tr>\n",
       "      <th>197</th>\n",
       "      <td>0.0366</td>\n",
       "      <td>0.0421</td>\n",
       "      <td>0.0504</td>\n",
       "      <td>0.0250</td>\n",
       "      <td>0.0596</td>\n",
       "      <td>0.0252</td>\n",
       "      <td>0.0958</td>\n",
       "      <td>0.0991</td>\n",
       "      <td>0.1419</td>\n",
       "      <td>0.1847</td>\n",
       "      <td>...</td>\n",
       "      <td>0.0132</td>\n",
       "      <td>0.0027</td>\n",
       "      <td>0.0022</td>\n",
       "      <td>0.0059</td>\n",
       "      <td>0.0016</td>\n",
       "      <td>0.0025</td>\n",
       "      <td>0.0017</td>\n",
       "      <td>0.0027</td>\n",
       "      <td>0.0027</td>\n",
       "      <td>M</td>\n",
       "    </tr>\n",
       "    <tr>\n",
       "      <th>198</th>\n",
       "      <td>0.0238</td>\n",
       "      <td>0.0318</td>\n",
       "      <td>0.0422</td>\n",
       "      <td>0.0399</td>\n",
       "      <td>0.0788</td>\n",
       "      <td>0.0766</td>\n",
       "      <td>0.0881</td>\n",
       "      <td>0.1143</td>\n",
       "      <td>0.1594</td>\n",
       "      <td>0.2048</td>\n",
       "      <td>...</td>\n",
       "      <td>0.0096</td>\n",
       "      <td>0.0071</td>\n",
       "      <td>0.0084</td>\n",
       "      <td>0.0038</td>\n",
       "      <td>0.0026</td>\n",
       "      <td>0.0028</td>\n",
       "      <td>0.0013</td>\n",
       "      <td>0.0035</td>\n",
       "      <td>0.0060</td>\n",
       "      <td>M</td>\n",
       "    </tr>\n",
       "    <tr>\n",
       "      <th>199</th>\n",
       "      <td>0.0116</td>\n",
       "      <td>0.0744</td>\n",
       "      <td>0.0367</td>\n",
       "      <td>0.0225</td>\n",
       "      <td>0.0076</td>\n",
       "      <td>0.0545</td>\n",
       "      <td>0.1110</td>\n",
       "      <td>0.1069</td>\n",
       "      <td>0.1708</td>\n",
       "      <td>0.2271</td>\n",
       "      <td>...</td>\n",
       "      <td>0.0141</td>\n",
       "      <td>0.0103</td>\n",
       "      <td>0.0100</td>\n",
       "      <td>0.0034</td>\n",
       "      <td>0.0026</td>\n",
       "      <td>0.0037</td>\n",
       "      <td>0.0044</td>\n",
       "      <td>0.0057</td>\n",
       "      <td>0.0035</td>\n",
       "      <td>M</td>\n",
       "    </tr>\n",
       "    <tr>\n",
       "      <th>200</th>\n",
       "      <td>0.0131</td>\n",
       "      <td>0.0387</td>\n",
       "      <td>0.0329</td>\n",
       "      <td>0.0078</td>\n",
       "      <td>0.0721</td>\n",
       "      <td>0.1341</td>\n",
       "      <td>0.1626</td>\n",
       "      <td>0.1902</td>\n",
       "      <td>0.2610</td>\n",
       "      <td>0.3193</td>\n",
       "      <td>...</td>\n",
       "      <td>0.0150</td>\n",
       "      <td>0.0076</td>\n",
       "      <td>0.0032</td>\n",
       "      <td>0.0037</td>\n",
       "      <td>0.0071</td>\n",
       "      <td>0.0040</td>\n",
       "      <td>0.0009</td>\n",
       "      <td>0.0015</td>\n",
       "      <td>0.0085</td>\n",
       "      <td>M</td>\n",
       "    </tr>\n",
       "    <tr>\n",
       "      <th>201</th>\n",
       "      <td>0.0335</td>\n",
       "      <td>0.0258</td>\n",
       "      <td>0.0398</td>\n",
       "      <td>0.0570</td>\n",
       "      <td>0.0529</td>\n",
       "      <td>0.1091</td>\n",
       "      <td>0.1709</td>\n",
       "      <td>0.1684</td>\n",
       "      <td>0.1865</td>\n",
       "      <td>0.2660</td>\n",
       "      <td>...</td>\n",
       "      <td>0.0120</td>\n",
       "      <td>0.0039</td>\n",
       "      <td>0.0053</td>\n",
       "      <td>0.0062</td>\n",
       "      <td>0.0046</td>\n",
       "      <td>0.0045</td>\n",
       "      <td>0.0022</td>\n",
       "      <td>0.0005</td>\n",
       "      <td>0.0031</td>\n",
       "      <td>M</td>\n",
       "    </tr>\n",
       "    <tr>\n",
       "      <th>202</th>\n",
       "      <td>0.0272</td>\n",
       "      <td>0.0378</td>\n",
       "      <td>0.0488</td>\n",
       "      <td>0.0848</td>\n",
       "      <td>0.1127</td>\n",
       "      <td>0.1103</td>\n",
       "      <td>0.1349</td>\n",
       "      <td>0.2337</td>\n",
       "      <td>0.3113</td>\n",
       "      <td>0.3997</td>\n",
       "      <td>...</td>\n",
       "      <td>0.0091</td>\n",
       "      <td>0.0045</td>\n",
       "      <td>0.0043</td>\n",
       "      <td>0.0043</td>\n",
       "      <td>0.0098</td>\n",
       "      <td>0.0054</td>\n",
       "      <td>0.0051</td>\n",
       "      <td>0.0065</td>\n",
       "      <td>0.0103</td>\n",
       "      <td>M</td>\n",
       "    </tr>\n",
       "    <tr>\n",
       "      <th>203</th>\n",
       "      <td>0.0187</td>\n",
       "      <td>0.0346</td>\n",
       "      <td>0.0168</td>\n",
       "      <td>0.0177</td>\n",
       "      <td>0.0393</td>\n",
       "      <td>0.1630</td>\n",
       "      <td>0.2028</td>\n",
       "      <td>0.1694</td>\n",
       "      <td>0.2328</td>\n",
       "      <td>0.2684</td>\n",
       "      <td>...</td>\n",
       "      <td>0.0116</td>\n",
       "      <td>0.0098</td>\n",
       "      <td>0.0199</td>\n",
       "      <td>0.0033</td>\n",
       "      <td>0.0101</td>\n",
       "      <td>0.0065</td>\n",
       "      <td>0.0115</td>\n",
       "      <td>0.0193</td>\n",
       "      <td>0.0157</td>\n",
       "      <td>M</td>\n",
       "    </tr>\n",
       "    <tr>\n",
       "      <th>204</th>\n",
       "      <td>0.0323</td>\n",
       "      <td>0.0101</td>\n",
       "      <td>0.0298</td>\n",
       "      <td>0.0564</td>\n",
       "      <td>0.0760</td>\n",
       "      <td>0.0958</td>\n",
       "      <td>0.0990</td>\n",
       "      <td>0.1018</td>\n",
       "      <td>0.1030</td>\n",
       "      <td>0.2154</td>\n",
       "      <td>...</td>\n",
       "      <td>0.0061</td>\n",
       "      <td>0.0093</td>\n",
       "      <td>0.0135</td>\n",
       "      <td>0.0063</td>\n",
       "      <td>0.0063</td>\n",
       "      <td>0.0034</td>\n",
       "      <td>0.0032</td>\n",
       "      <td>0.0062</td>\n",
       "      <td>0.0067</td>\n",
       "      <td>M</td>\n",
       "    </tr>\n",
       "    <tr>\n",
       "      <th>205</th>\n",
       "      <td>0.0522</td>\n",
       "      <td>0.0437</td>\n",
       "      <td>0.0180</td>\n",
       "      <td>0.0292</td>\n",
       "      <td>0.0351</td>\n",
       "      <td>0.1171</td>\n",
       "      <td>0.1257</td>\n",
       "      <td>0.1178</td>\n",
       "      <td>0.1258</td>\n",
       "      <td>0.2529</td>\n",
       "      <td>...</td>\n",
       "      <td>0.0160</td>\n",
       "      <td>0.0029</td>\n",
       "      <td>0.0051</td>\n",
       "      <td>0.0062</td>\n",
       "      <td>0.0089</td>\n",
       "      <td>0.0140</td>\n",
       "      <td>0.0138</td>\n",
       "      <td>0.0077</td>\n",
       "      <td>0.0031</td>\n",
       "      <td>M</td>\n",
       "    </tr>\n",
       "    <tr>\n",
       "      <th>206</th>\n",
       "      <td>0.0303</td>\n",
       "      <td>0.0353</td>\n",
       "      <td>0.0490</td>\n",
       "      <td>0.0608</td>\n",
       "      <td>0.0167</td>\n",
       "      <td>0.1354</td>\n",
       "      <td>0.1465</td>\n",
       "      <td>0.1123</td>\n",
       "      <td>0.1945</td>\n",
       "      <td>0.2354</td>\n",
       "      <td>...</td>\n",
       "      <td>0.0086</td>\n",
       "      <td>0.0046</td>\n",
       "      <td>0.0126</td>\n",
       "      <td>0.0036</td>\n",
       "      <td>0.0035</td>\n",
       "      <td>0.0034</td>\n",
       "      <td>0.0079</td>\n",
       "      <td>0.0036</td>\n",
       "      <td>0.0048</td>\n",
       "      <td>M</td>\n",
       "    </tr>\n",
       "    <tr>\n",
       "      <th>207</th>\n",
       "      <td>0.0260</td>\n",
       "      <td>0.0363</td>\n",
       "      <td>0.0136</td>\n",
       "      <td>0.0272</td>\n",
       "      <td>0.0214</td>\n",
       "      <td>0.0338</td>\n",
       "      <td>0.0655</td>\n",
       "      <td>0.1400</td>\n",
       "      <td>0.1843</td>\n",
       "      <td>0.2354</td>\n",
       "      <td>...</td>\n",
       "      <td>0.0146</td>\n",
       "      <td>0.0129</td>\n",
       "      <td>0.0047</td>\n",
       "      <td>0.0039</td>\n",
       "      <td>0.0061</td>\n",
       "      <td>0.0040</td>\n",
       "      <td>0.0036</td>\n",
       "      <td>0.0061</td>\n",
       "      <td>0.0115</td>\n",
       "      <td>M</td>\n",
       "    </tr>\n",
       "  </tbody>\n",
       "</table>\n",
       "<p>208 rows × 61 columns</p>\n",
       "</div>"
      ],
      "text/plain": [
       "         0       1       2       3       4       5       6       7       8   \\\n",
       "0    0.0200  0.0371  0.0428  0.0207  0.0954  0.0986  0.1539  0.1601  0.3109   \n",
       "1    0.0453  0.0523  0.0843  0.0689  0.1183  0.2583  0.2156  0.3481  0.3337   \n",
       "2    0.0262  0.0582  0.1099  0.1083  0.0974  0.2280  0.2431  0.3771  0.5598   \n",
       "3    0.0100  0.0171  0.0623  0.0205  0.0205  0.0368  0.1098  0.1276  0.0598   \n",
       "4    0.0762  0.0666  0.0481  0.0394  0.0590  0.0649  0.1209  0.2467  0.3564   \n",
       "5    0.0286  0.0453  0.0277  0.0174  0.0384  0.0990  0.1201  0.1833  0.2105   \n",
       "6    0.0317  0.0956  0.1321  0.1408  0.1674  0.1710  0.0731  0.1401  0.2083   \n",
       "7    0.0519  0.0548  0.0842  0.0319  0.1158  0.0922  0.1027  0.0613  0.1465   \n",
       "8    0.0223  0.0375  0.0484  0.0475  0.0647  0.0591  0.0753  0.0098  0.0684   \n",
       "9    0.0164  0.0173  0.0347  0.0070  0.0187  0.0671  0.1056  0.0697  0.0962   \n",
       "10   0.0039  0.0063  0.0152  0.0336  0.0310  0.0284  0.0396  0.0272  0.0323   \n",
       "11   0.0123  0.0309  0.0169  0.0313  0.0358  0.0102  0.0182  0.0579  0.1122   \n",
       "12   0.0079  0.0086  0.0055  0.0250  0.0344  0.0546  0.0528  0.0958  0.1009   \n",
       "13   0.0090  0.0062  0.0253  0.0489  0.1197  0.1589  0.1392  0.0987  0.0955   \n",
       "14   0.0124  0.0433  0.0604  0.0449  0.0597  0.0355  0.0531  0.0343  0.1052   \n",
       "15   0.0298  0.0615  0.0650  0.0921  0.1615  0.2294  0.2176  0.2033  0.1459   \n",
       "16   0.0352  0.0116  0.0191  0.0469  0.0737  0.1185  0.1683  0.1541  0.1466   \n",
       "17   0.0192  0.0607  0.0378  0.0774  0.1388  0.0809  0.0568  0.0219  0.1037   \n",
       "18   0.0270  0.0092  0.0145  0.0278  0.0412  0.0757  0.1026  0.1138  0.0794   \n",
       "19   0.0126  0.0149  0.0641  0.1732  0.2565  0.2559  0.2947  0.4110  0.4983   \n",
       "20   0.0473  0.0509  0.0819  0.1252  0.1783  0.3070  0.3008  0.2362  0.3830   \n",
       "21   0.0664  0.0575  0.0842  0.0372  0.0458  0.0771  0.0771  0.1130  0.2353   \n",
       "22   0.0099  0.0484  0.0299  0.0297  0.0652  0.1077  0.2363  0.2385  0.0075   \n",
       "23   0.0115  0.0150  0.0136  0.0076  0.0211  0.1058  0.1023  0.0440  0.0931   \n",
       "24   0.0293  0.0644  0.0390  0.0173  0.0476  0.0816  0.0993  0.0315  0.0736   \n",
       "25   0.0201  0.0026  0.0138  0.0062  0.0133  0.0151  0.0541  0.0210  0.0505   \n",
       "26   0.0151  0.0320  0.0599  0.1050  0.1163  0.1734  0.1679  0.1119  0.0889   \n",
       "27   0.0177  0.0300  0.0288  0.0394  0.0630  0.0526  0.0688  0.0633  0.0624   \n",
       "28   0.0100  0.0275  0.0190  0.0371  0.0416  0.0201  0.0314  0.0651  0.1896   \n",
       "29   0.0189  0.0308  0.0197  0.0622  0.0080  0.0789  0.1440  0.1451  0.1789   \n",
       "..      ...     ...     ...     ...     ...     ...     ...     ...     ...   \n",
       "178  0.0197  0.0394  0.0384  0.0076  0.0251  0.0629  0.0747  0.0578  0.1357   \n",
       "179  0.0394  0.0420  0.0446  0.0551  0.0597  0.1416  0.0956  0.0802  0.1618   \n",
       "180  0.0310  0.0221  0.0433  0.0191  0.0964  0.1827  0.1106  0.1702  0.2804   \n",
       "181  0.0423  0.0321  0.0709  0.0108  0.1070  0.0973  0.0961  0.1323  0.2462   \n",
       "182  0.0095  0.0308  0.0539  0.0411  0.0613  0.1039  0.1016  0.1394  0.2592   \n",
       "183  0.0096  0.0404  0.0682  0.0688  0.0887  0.0932  0.0955  0.2140  0.2546   \n",
       "184  0.0269  0.0383  0.0505  0.0707  0.1313  0.2103  0.2263  0.2524  0.3595   \n",
       "185  0.0340  0.0625  0.0381  0.0257  0.0441  0.1027  0.1287  0.1850  0.2647   \n",
       "186  0.0209  0.0191  0.0411  0.0321  0.0698  0.1579  0.1438  0.1402  0.3048   \n",
       "187  0.0368  0.0279  0.0103  0.0566  0.0759  0.0679  0.0970  0.1473  0.2164   \n",
       "188  0.0089  0.0274  0.0248  0.0237  0.0224  0.0845  0.1488  0.1224  0.1569   \n",
       "189  0.0158  0.0239  0.0150  0.0494  0.0988  0.1425  0.1463  0.1219  0.1697   \n",
       "190  0.0156  0.0210  0.0282  0.0596  0.0462  0.0779  0.1365  0.0780  0.1038   \n",
       "191  0.0315  0.0252  0.0167  0.0479  0.0902  0.1057  0.1024  0.1209  0.1241   \n",
       "192  0.0056  0.0267  0.0221  0.0561  0.0936  0.1146  0.0706  0.0996  0.1673   \n",
       "193  0.0203  0.0121  0.0380  0.0128  0.0537  0.0874  0.1021  0.0852  0.1136   \n",
       "194  0.0392  0.0108  0.0267  0.0257  0.0410  0.0491  0.1053  0.1690  0.2105   \n",
       "195  0.0129  0.0141  0.0309  0.0375  0.0767  0.0787  0.0662  0.1108  0.1777   \n",
       "196  0.0050  0.0017  0.0270  0.0450  0.0958  0.0830  0.0879  0.1220  0.1977   \n",
       "197  0.0366  0.0421  0.0504  0.0250  0.0596  0.0252  0.0958  0.0991  0.1419   \n",
       "198  0.0238  0.0318  0.0422  0.0399  0.0788  0.0766  0.0881  0.1143  0.1594   \n",
       "199  0.0116  0.0744  0.0367  0.0225  0.0076  0.0545  0.1110  0.1069  0.1708   \n",
       "200  0.0131  0.0387  0.0329  0.0078  0.0721  0.1341  0.1626  0.1902  0.2610   \n",
       "201  0.0335  0.0258  0.0398  0.0570  0.0529  0.1091  0.1709  0.1684  0.1865   \n",
       "202  0.0272  0.0378  0.0488  0.0848  0.1127  0.1103  0.1349  0.2337  0.3113   \n",
       "203  0.0187  0.0346  0.0168  0.0177  0.0393  0.1630  0.2028  0.1694  0.2328   \n",
       "204  0.0323  0.0101  0.0298  0.0564  0.0760  0.0958  0.0990  0.1018  0.1030   \n",
       "205  0.0522  0.0437  0.0180  0.0292  0.0351  0.1171  0.1257  0.1178  0.1258   \n",
       "206  0.0303  0.0353  0.0490  0.0608  0.0167  0.1354  0.1465  0.1123  0.1945   \n",
       "207  0.0260  0.0363  0.0136  0.0272  0.0214  0.0338  0.0655  0.1400  0.1843   \n",
       "\n",
       "         9  ...      51      52      53      54      55      56      57  \\\n",
       "0    0.2111 ...  0.0027  0.0065  0.0159  0.0072  0.0167  0.0180  0.0084   \n",
       "1    0.2872 ...  0.0084  0.0089  0.0048  0.0094  0.0191  0.0140  0.0049   \n",
       "2    0.6194 ...  0.0232  0.0166  0.0095  0.0180  0.0244  0.0316  0.0164   \n",
       "3    0.1264 ...  0.0121  0.0036  0.0150  0.0085  0.0073  0.0050  0.0044   \n",
       "4    0.4459 ...  0.0031  0.0054  0.0105  0.0110  0.0015  0.0072  0.0048   \n",
       "5    0.3039 ...  0.0045  0.0014  0.0038  0.0013  0.0089  0.0057  0.0027   \n",
       "6    0.3513 ...  0.0201  0.0248  0.0131  0.0070  0.0138  0.0092  0.0143   \n",
       "7    0.2838 ...  0.0081  0.0120  0.0045  0.0121  0.0097  0.0085  0.0047   \n",
       "8    0.1487 ...  0.0145  0.0128  0.0145  0.0058  0.0049  0.0065  0.0093   \n",
       "9    0.0251 ...  0.0090  0.0223  0.0179  0.0084  0.0068  0.0032  0.0035   \n",
       "10   0.0452 ...  0.0062  0.0120  0.0052  0.0056  0.0093  0.0042  0.0003   \n",
       "11   0.0835 ...  0.0133  0.0265  0.0224  0.0074  0.0118  0.0026  0.0092   \n",
       "12   0.1240 ...  0.0176  0.0127  0.0088  0.0098  0.0019  0.0059  0.0058   \n",
       "13   0.1895 ...  0.0059  0.0095  0.0194  0.0080  0.0152  0.0158  0.0053   \n",
       "14   0.2120 ...  0.0083  0.0057  0.0174  0.0188  0.0054  0.0114  0.0196   \n",
       "15   0.0852 ...  0.0031  0.0153  0.0071  0.0212  0.0076  0.0152  0.0049   \n",
       "16   0.2912 ...  0.0346  0.0158  0.0154  0.0109  0.0048  0.0095  0.0015   \n",
       "17   0.1186 ...  0.0331  0.0131  0.0120  0.0108  0.0024  0.0045  0.0037   \n",
       "18   0.1520 ...  0.0084  0.0010  0.0018  0.0068  0.0039  0.0120  0.0132   \n",
       "19   0.5920 ...  0.0092  0.0035  0.0098  0.0121  0.0006  0.0181  0.0094   \n",
       "20   0.3759 ...  0.0193  0.0118  0.0064  0.0042  0.0054  0.0049  0.0082   \n",
       "21   0.1838 ...  0.0141  0.0190  0.0043  0.0036  0.0026  0.0024  0.0162   \n",
       "22   0.1882 ...  0.0173  0.0149  0.0115  0.0202  0.0139  0.0029  0.0160   \n",
       "23   0.0734 ...  0.0091  0.0016  0.0084  0.0064  0.0026  0.0029  0.0037   \n",
       "24   0.0860 ...  0.0035  0.0052  0.0083  0.0078  0.0075  0.0105  0.0160   \n",
       "25   0.1097 ...  0.0108  0.0070  0.0063  0.0030  0.0011  0.0007  0.0024   \n",
       "26   0.1205 ...  0.0061  0.0015  0.0084  0.0128  0.0054  0.0011  0.0019   \n",
       "27   0.0613 ...  0.0102  0.0122  0.0044  0.0075  0.0124  0.0099  0.0057   \n",
       "28   0.2668 ...  0.0088  0.0104  0.0036  0.0088  0.0047  0.0117  0.0020   \n",
       "29   0.2522 ...  0.0038  0.0096  0.0142  0.0190  0.0140  0.0099  0.0092   \n",
       "..      ... ...     ...     ...     ...     ...     ...     ...     ...   \n",
       "178  0.1695 ...  0.0134  0.0097  0.0042  0.0058  0.0072  0.0041  0.0045   \n",
       "179  0.2558 ...  0.0146  0.0040  0.0114  0.0032  0.0062  0.0101  0.0068   \n",
       "180  0.4432 ...  0.0204  0.0059  0.0053  0.0079  0.0037  0.0015  0.0056   \n",
       "181  0.2696 ...  0.0176  0.0035  0.0093  0.0121  0.0075  0.0056  0.0021   \n",
       "182  0.3745 ...  0.0181  0.0019  0.0102  0.0133  0.0040  0.0042  0.0030   \n",
       "183  0.2952 ...  0.0237  0.0078  0.0144  0.0170  0.0012  0.0109  0.0036   \n",
       "184  0.5915 ...  0.0167  0.0199  0.0145  0.0081  0.0045  0.0043  0.0027   \n",
       "185  0.4117 ...  0.0141  0.0019  0.0067  0.0099  0.0042  0.0057  0.0051   \n",
       "186  0.3914 ...  0.0078  0.0201  0.0104  0.0039  0.0031  0.0062  0.0087   \n",
       "187  0.2544 ...  0.0105  0.0024  0.0018  0.0057  0.0092  0.0009  0.0086   \n",
       "188  0.2119 ...  0.0096  0.0103  0.0093  0.0025  0.0044  0.0021  0.0069   \n",
       "189  0.1923 ...  0.0121  0.0108  0.0057  0.0028  0.0079  0.0034  0.0046   \n",
       "190  0.1567 ...  0.0150  0.0060  0.0082  0.0091  0.0038  0.0056  0.0056   \n",
       "191  0.1533 ...  0.0108  0.0062  0.0044  0.0072  0.0007  0.0054  0.0035   \n",
       "192  0.1859 ...  0.0072  0.0055  0.0074  0.0068  0.0084  0.0037  0.0024   \n",
       "193  0.1747 ...  0.0134  0.0094  0.0047  0.0045  0.0042  0.0028  0.0036   \n",
       "194  0.2471 ...  0.0083  0.0080  0.0026  0.0079  0.0042  0.0071  0.0044   \n",
       "195  0.2245 ...  0.0124  0.0093  0.0072  0.0019  0.0027  0.0054  0.0017   \n",
       "196  0.2282 ...  0.0165  0.0056  0.0010  0.0027  0.0062  0.0024  0.0063   \n",
       "197  0.1847 ...  0.0132  0.0027  0.0022  0.0059  0.0016  0.0025  0.0017   \n",
       "198  0.2048 ...  0.0096  0.0071  0.0084  0.0038  0.0026  0.0028  0.0013   \n",
       "199  0.2271 ...  0.0141  0.0103  0.0100  0.0034  0.0026  0.0037  0.0044   \n",
       "200  0.3193 ...  0.0150  0.0076  0.0032  0.0037  0.0071  0.0040  0.0009   \n",
       "201  0.2660 ...  0.0120  0.0039  0.0053  0.0062  0.0046  0.0045  0.0022   \n",
       "202  0.3997 ...  0.0091  0.0045  0.0043  0.0043  0.0098  0.0054  0.0051   \n",
       "203  0.2684 ...  0.0116  0.0098  0.0199  0.0033  0.0101  0.0065  0.0115   \n",
       "204  0.2154 ...  0.0061  0.0093  0.0135  0.0063  0.0063  0.0034  0.0032   \n",
       "205  0.2529 ...  0.0160  0.0029  0.0051  0.0062  0.0089  0.0140  0.0138   \n",
       "206  0.2354 ...  0.0086  0.0046  0.0126  0.0036  0.0035  0.0034  0.0079   \n",
       "207  0.2354 ...  0.0146  0.0129  0.0047  0.0039  0.0061  0.0040  0.0036   \n",
       "\n",
       "         58      59  60  \n",
       "0    0.0090  0.0032   R  \n",
       "1    0.0052  0.0044   R  \n",
       "2    0.0095  0.0078   R  \n",
       "3    0.0040  0.0117   R  \n",
       "4    0.0107  0.0094   R  \n",
       "5    0.0051  0.0062   R  \n",
       "6    0.0036  0.0103   R  \n",
       "7    0.0048  0.0053   R  \n",
       "8    0.0059  0.0022   R  \n",
       "9    0.0056  0.0040   R  \n",
       "10   0.0053  0.0036   R  \n",
       "11   0.0009  0.0044   R  \n",
       "12   0.0059  0.0032   R  \n",
       "13   0.0189  0.0102   R  \n",
       "14   0.0147  0.0062   R  \n",
       "15   0.0200  0.0073   R  \n",
       "16   0.0073  0.0067   R  \n",
       "17   0.0112  0.0075   R  \n",
       "18   0.0070  0.0088   R  \n",
       "19   0.0116  0.0063   R  \n",
       "20   0.0028  0.0027   R  \n",
       "21   0.0109  0.0079   R  \n",
       "22   0.0106  0.0134   R  \n",
       "23   0.0070  0.0041   R  \n",
       "24   0.0095  0.0011   R  \n",
       "25   0.0057  0.0044   R  \n",
       "26   0.0023  0.0062   R  \n",
       "27   0.0032  0.0019   R  \n",
       "28   0.0091  0.0058   R  \n",
       "29   0.0052  0.0075   R  \n",
       "..      ...     ...  ..  \n",
       "178  0.0047  0.0054   M  \n",
       "179  0.0053  0.0087   M  \n",
       "180  0.0067  0.0054   M  \n",
       "181  0.0043  0.0017   M  \n",
       "182  0.0031  0.0033   M  \n",
       "183  0.0043  0.0018   M  \n",
       "184  0.0055  0.0057   M  \n",
       "185  0.0033  0.0058   M  \n",
       "186  0.0070  0.0042   M  \n",
       "187  0.0110  0.0052   M  \n",
       "188  0.0060  0.0018   M  \n",
       "189  0.0022  0.0021   M  \n",
       "190  0.0048  0.0024   M  \n",
       "191  0.0001  0.0055   M  \n",
       "192  0.0034  0.0007   M  \n",
       "193  0.0013  0.0016   M  \n",
       "194  0.0022  0.0014   M  \n",
       "195  0.0024  0.0029   M  \n",
       "196  0.0017  0.0028   M  \n",
       "197  0.0027  0.0027   M  \n",
       "198  0.0035  0.0060   M  \n",
       "199  0.0057  0.0035   M  \n",
       "200  0.0015  0.0085   M  \n",
       "201  0.0005  0.0031   M  \n",
       "202  0.0065  0.0103   M  \n",
       "203  0.0193  0.0157   M  \n",
       "204  0.0062  0.0067   M  \n",
       "205  0.0077  0.0031   M  \n",
       "206  0.0036  0.0048   M  \n",
       "207  0.0061  0.0115   M  \n",
       "\n",
       "[208 rows x 61 columns]"
      ]
     },
     "execution_count": 2,
     "metadata": {},
     "output_type": "execute_result"
    }
   ],
   "source": [
    "train_data = pd.read_csv(\"sonar.all-data\",names=range(0,61),header=None)\n",
    "train_data"
   ]
  },
  {
   "cell_type": "code",
   "execution_count": 104,
   "metadata": {},
   "outputs": [
    {
     "data": {
      "text/html": [
       "<div>\n",
       "<style>\n",
       "    .dataframe thead tr:only-child th {\n",
       "        text-align: right;\n",
       "    }\n",
       "\n",
       "    .dataframe thead th {\n",
       "        text-align: left;\n",
       "    }\n",
       "\n",
       "    .dataframe tbody tr th {\n",
       "        vertical-align: top;\n",
       "    }\n",
       "</style>\n",
       "<table border=\"1\" class=\"dataframe\">\n",
       "  <thead>\n",
       "    <tr style=\"text-align: right;\">\n",
       "      <th></th>\n",
       "      <th>0</th>\n",
       "      <th>1</th>\n",
       "      <th>2</th>\n",
       "      <th>3</th>\n",
       "      <th>4</th>\n",
       "      <th>5</th>\n",
       "      <th>6</th>\n",
       "      <th>7</th>\n",
       "      <th>8</th>\n",
       "      <th>9</th>\n",
       "      <th>...</th>\n",
       "      <th>51</th>\n",
       "      <th>52</th>\n",
       "      <th>53</th>\n",
       "      <th>54</th>\n",
       "      <th>55</th>\n",
       "      <th>56</th>\n",
       "      <th>57</th>\n",
       "      <th>58</th>\n",
       "      <th>59</th>\n",
       "      <th>60</th>\n",
       "    </tr>\n",
       "  </thead>\n",
       "  <tbody>\n",
       "    <tr>\n",
       "      <th>0</th>\n",
       "      <td>0.0200</td>\n",
       "      <td>0.0371</td>\n",
       "      <td>0.0428</td>\n",
       "      <td>0.0207</td>\n",
       "      <td>0.0954</td>\n",
       "      <td>0.0986</td>\n",
       "      <td>0.1539</td>\n",
       "      <td>0.1601</td>\n",
       "      <td>0.3109</td>\n",
       "      <td>0.2111</td>\n",
       "      <td>...</td>\n",
       "      <td>0.0027</td>\n",
       "      <td>0.0065</td>\n",
       "      <td>0.0159</td>\n",
       "      <td>0.0072</td>\n",
       "      <td>0.0167</td>\n",
       "      <td>0.0180</td>\n",
       "      <td>0.0084</td>\n",
       "      <td>0.0090</td>\n",
       "      <td>0.0032</td>\n",
       "      <td>R</td>\n",
       "    </tr>\n",
       "    <tr>\n",
       "      <th>1</th>\n",
       "      <td>0.0453</td>\n",
       "      <td>0.0523</td>\n",
       "      <td>0.0843</td>\n",
       "      <td>0.0689</td>\n",
       "      <td>0.1183</td>\n",
       "      <td>0.2583</td>\n",
       "      <td>0.2156</td>\n",
       "      <td>0.3481</td>\n",
       "      <td>0.3337</td>\n",
       "      <td>0.2872</td>\n",
       "      <td>...</td>\n",
       "      <td>0.0084</td>\n",
       "      <td>0.0089</td>\n",
       "      <td>0.0048</td>\n",
       "      <td>0.0094</td>\n",
       "      <td>0.0191</td>\n",
       "      <td>0.0140</td>\n",
       "      <td>0.0049</td>\n",
       "      <td>0.0052</td>\n",
       "      <td>0.0044</td>\n",
       "      <td>R</td>\n",
       "    </tr>\n",
       "    <tr>\n",
       "      <th>2</th>\n",
       "      <td>0.0262</td>\n",
       "      <td>0.0582</td>\n",
       "      <td>0.1099</td>\n",
       "      <td>0.1083</td>\n",
       "      <td>0.0974</td>\n",
       "      <td>0.2280</td>\n",
       "      <td>0.2431</td>\n",
       "      <td>0.3771</td>\n",
       "      <td>0.5598</td>\n",
       "      <td>0.6194</td>\n",
       "      <td>...</td>\n",
       "      <td>0.0232</td>\n",
       "      <td>0.0166</td>\n",
       "      <td>0.0095</td>\n",
       "      <td>0.0180</td>\n",
       "      <td>0.0244</td>\n",
       "      <td>0.0316</td>\n",
       "      <td>0.0164</td>\n",
       "      <td>0.0095</td>\n",
       "      <td>0.0078</td>\n",
       "      <td>R</td>\n",
       "    </tr>\n",
       "    <tr>\n",
       "      <th>3</th>\n",
       "      <td>0.0100</td>\n",
       "      <td>0.0171</td>\n",
       "      <td>0.0623</td>\n",
       "      <td>0.0205</td>\n",
       "      <td>0.0205</td>\n",
       "      <td>0.0368</td>\n",
       "      <td>0.1098</td>\n",
       "      <td>0.1276</td>\n",
       "      <td>0.0598</td>\n",
       "      <td>0.1264</td>\n",
       "      <td>...</td>\n",
       "      <td>0.0121</td>\n",
       "      <td>0.0036</td>\n",
       "      <td>0.0150</td>\n",
       "      <td>0.0085</td>\n",
       "      <td>0.0073</td>\n",
       "      <td>0.0050</td>\n",
       "      <td>0.0044</td>\n",
       "      <td>0.0040</td>\n",
       "      <td>0.0117</td>\n",
       "      <td>R</td>\n",
       "    </tr>\n",
       "    <tr>\n",
       "      <th>4</th>\n",
       "      <td>0.0762</td>\n",
       "      <td>0.0666</td>\n",
       "      <td>0.0481</td>\n",
       "      <td>0.0394</td>\n",
       "      <td>0.0590</td>\n",
       "      <td>0.0649</td>\n",
       "      <td>0.1209</td>\n",
       "      <td>0.2467</td>\n",
       "      <td>0.3564</td>\n",
       "      <td>0.4459</td>\n",
       "      <td>...</td>\n",
       "      <td>0.0031</td>\n",
       "      <td>0.0054</td>\n",
       "      <td>0.0105</td>\n",
       "      <td>0.0110</td>\n",
       "      <td>0.0015</td>\n",
       "      <td>0.0072</td>\n",
       "      <td>0.0048</td>\n",
       "      <td>0.0107</td>\n",
       "      <td>0.0094</td>\n",
       "      <td>R</td>\n",
       "    </tr>\n",
       "  </tbody>\n",
       "</table>\n",
       "<p>5 rows × 61 columns</p>\n",
       "</div>"
      ],
      "text/plain": [
       "       0       1       2       3       4       5       6       7       8   \\\n",
       "0  0.0200  0.0371  0.0428  0.0207  0.0954  0.0986  0.1539  0.1601  0.3109   \n",
       "1  0.0453  0.0523  0.0843  0.0689  0.1183  0.2583  0.2156  0.3481  0.3337   \n",
       "2  0.0262  0.0582  0.1099  0.1083  0.0974  0.2280  0.2431  0.3771  0.5598   \n",
       "3  0.0100  0.0171  0.0623  0.0205  0.0205  0.0368  0.1098  0.1276  0.0598   \n",
       "4  0.0762  0.0666  0.0481  0.0394  0.0590  0.0649  0.1209  0.2467  0.3564   \n",
       "\n",
       "       9  ...      51      52      53      54      55      56      57      58  \\\n",
       "0  0.2111 ...  0.0027  0.0065  0.0159  0.0072  0.0167  0.0180  0.0084  0.0090   \n",
       "1  0.2872 ...  0.0084  0.0089  0.0048  0.0094  0.0191  0.0140  0.0049  0.0052   \n",
       "2  0.6194 ...  0.0232  0.0166  0.0095  0.0180  0.0244  0.0316  0.0164  0.0095   \n",
       "3  0.1264 ...  0.0121  0.0036  0.0150  0.0085  0.0073  0.0050  0.0044  0.0040   \n",
       "4  0.4459 ...  0.0031  0.0054  0.0105  0.0110  0.0015  0.0072  0.0048  0.0107   \n",
       "\n",
       "       59  60  \n",
       "0  0.0032   R  \n",
       "1  0.0044   R  \n",
       "2  0.0078   R  \n",
       "3  0.0117   R  \n",
       "4  0.0094   R  \n",
       "\n",
       "[5 rows x 61 columns]"
      ]
     },
     "execution_count": 104,
     "metadata": {},
     "output_type": "execute_result"
    }
   ],
   "source": [
    "train_data.head(5)"
   ]
  },
  {
   "cell_type": "code",
   "execution_count": 105,
   "metadata": {},
   "outputs": [
    {
     "data": {
      "text/html": [
       "<div>\n",
       "<style>\n",
       "    .dataframe thead tr:only-child th {\n",
       "        text-align: right;\n",
       "    }\n",
       "\n",
       "    .dataframe thead th {\n",
       "        text-align: left;\n",
       "    }\n",
       "\n",
       "    .dataframe tbody tr th {\n",
       "        vertical-align: top;\n",
       "    }\n",
       "</style>\n",
       "<table border=\"1\" class=\"dataframe\">\n",
       "  <thead>\n",
       "    <tr style=\"text-align: right;\">\n",
       "      <th></th>\n",
       "      <th>0</th>\n",
       "      <th>1</th>\n",
       "      <th>2</th>\n",
       "      <th>3</th>\n",
       "      <th>4</th>\n",
       "      <th>5</th>\n",
       "      <th>6</th>\n",
       "      <th>7</th>\n",
       "      <th>8</th>\n",
       "      <th>9</th>\n",
       "      <th>...</th>\n",
       "      <th>51</th>\n",
       "      <th>52</th>\n",
       "      <th>53</th>\n",
       "      <th>54</th>\n",
       "      <th>55</th>\n",
       "      <th>56</th>\n",
       "      <th>57</th>\n",
       "      <th>58</th>\n",
       "      <th>59</th>\n",
       "      <th>60</th>\n",
       "    </tr>\n",
       "  </thead>\n",
       "  <tbody>\n",
       "    <tr>\n",
       "      <th>203</th>\n",
       "      <td>0.0187</td>\n",
       "      <td>0.0346</td>\n",
       "      <td>0.0168</td>\n",
       "      <td>0.0177</td>\n",
       "      <td>0.0393</td>\n",
       "      <td>0.1630</td>\n",
       "      <td>0.2028</td>\n",
       "      <td>0.1694</td>\n",
       "      <td>0.2328</td>\n",
       "      <td>0.2684</td>\n",
       "      <td>...</td>\n",
       "      <td>0.0116</td>\n",
       "      <td>0.0098</td>\n",
       "      <td>0.0199</td>\n",
       "      <td>0.0033</td>\n",
       "      <td>0.0101</td>\n",
       "      <td>0.0065</td>\n",
       "      <td>0.0115</td>\n",
       "      <td>0.0193</td>\n",
       "      <td>0.0157</td>\n",
       "      <td>M</td>\n",
       "    </tr>\n",
       "    <tr>\n",
       "      <th>204</th>\n",
       "      <td>0.0323</td>\n",
       "      <td>0.0101</td>\n",
       "      <td>0.0298</td>\n",
       "      <td>0.0564</td>\n",
       "      <td>0.0760</td>\n",
       "      <td>0.0958</td>\n",
       "      <td>0.0990</td>\n",
       "      <td>0.1018</td>\n",
       "      <td>0.1030</td>\n",
       "      <td>0.2154</td>\n",
       "      <td>...</td>\n",
       "      <td>0.0061</td>\n",
       "      <td>0.0093</td>\n",
       "      <td>0.0135</td>\n",
       "      <td>0.0063</td>\n",
       "      <td>0.0063</td>\n",
       "      <td>0.0034</td>\n",
       "      <td>0.0032</td>\n",
       "      <td>0.0062</td>\n",
       "      <td>0.0067</td>\n",
       "      <td>M</td>\n",
       "    </tr>\n",
       "    <tr>\n",
       "      <th>205</th>\n",
       "      <td>0.0522</td>\n",
       "      <td>0.0437</td>\n",
       "      <td>0.0180</td>\n",
       "      <td>0.0292</td>\n",
       "      <td>0.0351</td>\n",
       "      <td>0.1171</td>\n",
       "      <td>0.1257</td>\n",
       "      <td>0.1178</td>\n",
       "      <td>0.1258</td>\n",
       "      <td>0.2529</td>\n",
       "      <td>...</td>\n",
       "      <td>0.0160</td>\n",
       "      <td>0.0029</td>\n",
       "      <td>0.0051</td>\n",
       "      <td>0.0062</td>\n",
       "      <td>0.0089</td>\n",
       "      <td>0.0140</td>\n",
       "      <td>0.0138</td>\n",
       "      <td>0.0077</td>\n",
       "      <td>0.0031</td>\n",
       "      <td>M</td>\n",
       "    </tr>\n",
       "    <tr>\n",
       "      <th>206</th>\n",
       "      <td>0.0303</td>\n",
       "      <td>0.0353</td>\n",
       "      <td>0.0490</td>\n",
       "      <td>0.0608</td>\n",
       "      <td>0.0167</td>\n",
       "      <td>0.1354</td>\n",
       "      <td>0.1465</td>\n",
       "      <td>0.1123</td>\n",
       "      <td>0.1945</td>\n",
       "      <td>0.2354</td>\n",
       "      <td>...</td>\n",
       "      <td>0.0086</td>\n",
       "      <td>0.0046</td>\n",
       "      <td>0.0126</td>\n",
       "      <td>0.0036</td>\n",
       "      <td>0.0035</td>\n",
       "      <td>0.0034</td>\n",
       "      <td>0.0079</td>\n",
       "      <td>0.0036</td>\n",
       "      <td>0.0048</td>\n",
       "      <td>M</td>\n",
       "    </tr>\n",
       "    <tr>\n",
       "      <th>207</th>\n",
       "      <td>0.0260</td>\n",
       "      <td>0.0363</td>\n",
       "      <td>0.0136</td>\n",
       "      <td>0.0272</td>\n",
       "      <td>0.0214</td>\n",
       "      <td>0.0338</td>\n",
       "      <td>0.0655</td>\n",
       "      <td>0.1400</td>\n",
       "      <td>0.1843</td>\n",
       "      <td>0.2354</td>\n",
       "      <td>...</td>\n",
       "      <td>0.0146</td>\n",
       "      <td>0.0129</td>\n",
       "      <td>0.0047</td>\n",
       "      <td>0.0039</td>\n",
       "      <td>0.0061</td>\n",
       "      <td>0.0040</td>\n",
       "      <td>0.0036</td>\n",
       "      <td>0.0061</td>\n",
       "      <td>0.0115</td>\n",
       "      <td>M</td>\n",
       "    </tr>\n",
       "  </tbody>\n",
       "</table>\n",
       "<p>5 rows × 61 columns</p>\n",
       "</div>"
      ],
      "text/plain": [
       "         0       1       2       3       4       5       6       7       8   \\\n",
       "203  0.0187  0.0346  0.0168  0.0177  0.0393  0.1630  0.2028  0.1694  0.2328   \n",
       "204  0.0323  0.0101  0.0298  0.0564  0.0760  0.0958  0.0990  0.1018  0.1030   \n",
       "205  0.0522  0.0437  0.0180  0.0292  0.0351  0.1171  0.1257  0.1178  0.1258   \n",
       "206  0.0303  0.0353  0.0490  0.0608  0.0167  0.1354  0.1465  0.1123  0.1945   \n",
       "207  0.0260  0.0363  0.0136  0.0272  0.0214  0.0338  0.0655  0.1400  0.1843   \n",
       "\n",
       "         9  ...      51      52      53      54      55      56      57  \\\n",
       "203  0.2684 ...  0.0116  0.0098  0.0199  0.0033  0.0101  0.0065  0.0115   \n",
       "204  0.2154 ...  0.0061  0.0093  0.0135  0.0063  0.0063  0.0034  0.0032   \n",
       "205  0.2529 ...  0.0160  0.0029  0.0051  0.0062  0.0089  0.0140  0.0138   \n",
       "206  0.2354 ...  0.0086  0.0046  0.0126  0.0036  0.0035  0.0034  0.0079   \n",
       "207  0.2354 ...  0.0146  0.0129  0.0047  0.0039  0.0061  0.0040  0.0036   \n",
       "\n",
       "         58      59  60  \n",
       "203  0.0193  0.0157   M  \n",
       "204  0.0062  0.0067   M  \n",
       "205  0.0077  0.0031   M  \n",
       "206  0.0036  0.0048   M  \n",
       "207  0.0061  0.0115   M  \n",
       "\n",
       "[5 rows x 61 columns]"
      ]
     },
     "execution_count": 105,
     "metadata": {},
     "output_type": "execute_result"
    }
   ],
   "source": [
    "train_data.tail(5)"
   ]
  },
  {
   "cell_type": "code",
   "execution_count": 106,
   "metadata": {},
   "outputs": [
    {
     "data": {
      "text/plain": [
       "(208, 61)"
      ]
     },
     "execution_count": 106,
     "metadata": {},
     "output_type": "execute_result"
    }
   ],
   "source": [
    "train_data.shape"
   ]
  },
  {
   "cell_type": "markdown",
   "metadata": {},
   "source": [
    "<b>Observation:</b>\n",
    "<li>There are 208 rows and 61 columns in the dataset.</li>"
   ]
  },
  {
   "cell_type": "code",
   "execution_count": 79,
   "metadata": {},
   "outputs": [
    {
     "data": {
      "text/plain": [
       "Int64Index([ 0,  1,  2,  3,  4,  5,  6,  7,  8,  9, 10, 11, 12, 13, 14, 15, 16,\n",
       "            17, 18, 19, 20, 21, 22, 23, 24, 25, 26, 27, 28, 29, 30, 31, 32, 33,\n",
       "            34, 35, 36, 37, 38, 39, 40, 41, 42, 43, 44, 45, 46, 47, 48, 49, 50,\n",
       "            51, 52, 53, 54, 55, 56, 57, 58, 59, 60],\n",
       "           dtype='int64')"
      ]
     },
     "execution_count": 79,
     "metadata": {},
     "output_type": "execute_result"
    }
   ],
   "source": [
    "train_data.columns"
   ]
  },
  {
   "cell_type": "markdown",
   "metadata": {},
   "source": [
    "<b>Observation:</b>\n",
    "<li>There are 61 columns in the dataset.</li>"
   ]
  },
  {
   "cell_type": "markdown",
   "metadata": {},
   "source": [
    "# 2. Display the number of missing values(if any) in each of the attributes."
   ]
  },
  {
   "cell_type": "code",
   "execution_count": 80,
   "metadata": {},
   "outputs": [
    {
     "data": {
      "text/plain": [
       "0     float64\n",
       "1     float64\n",
       "2     float64\n",
       "3     float64\n",
       "4     float64\n",
       "5     float64\n",
       "6     float64\n",
       "7     float64\n",
       "8     float64\n",
       "9     float64\n",
       "10    float64\n",
       "11    float64\n",
       "12    float64\n",
       "13    float64\n",
       "14    float64\n",
       "15    float64\n",
       "16    float64\n",
       "17    float64\n",
       "18    float64\n",
       "19    float64\n",
       "20    float64\n",
       "21    float64\n",
       "22    float64\n",
       "23    float64\n",
       "24    float64\n",
       "25    float64\n",
       "26    float64\n",
       "27    float64\n",
       "28    float64\n",
       "29    float64\n",
       "       ...   \n",
       "31    float64\n",
       "32    float64\n",
       "33    float64\n",
       "34    float64\n",
       "35    float64\n",
       "36    float64\n",
       "37    float64\n",
       "38    float64\n",
       "39    float64\n",
       "40    float64\n",
       "41    float64\n",
       "42    float64\n",
       "43    float64\n",
       "44    float64\n",
       "45    float64\n",
       "46    float64\n",
       "47    float64\n",
       "48    float64\n",
       "49    float64\n",
       "50    float64\n",
       "51    float64\n",
       "52    float64\n",
       "53    float64\n",
       "54    float64\n",
       "55    float64\n",
       "56    float64\n",
       "57    float64\n",
       "58    float64\n",
       "59    float64\n",
       "60     object\n",
       "Length: 61, dtype: object"
      ]
     },
     "execution_count": 80,
     "metadata": {},
     "output_type": "execute_result"
    }
   ],
   "source": [
    "train_data.dtypes"
   ]
  },
  {
   "cell_type": "code",
   "execution_count": 81,
   "metadata": {},
   "outputs": [
    {
     "name": "stdout",
     "output_type": "stream",
     "text": [
      "<class 'pandas.core.frame.DataFrame'>\n",
      "RangeIndex: 208 entries, 0 to 207\n",
      "Data columns (total 61 columns):\n",
      "0     208 non-null float64\n",
      "1     208 non-null float64\n",
      "2     208 non-null float64\n",
      "3     208 non-null float64\n",
      "4     208 non-null float64\n",
      "5     208 non-null float64\n",
      "6     208 non-null float64\n",
      "7     208 non-null float64\n",
      "8     208 non-null float64\n",
      "9     208 non-null float64\n",
      "10    208 non-null float64\n",
      "11    208 non-null float64\n",
      "12    208 non-null float64\n",
      "13    208 non-null float64\n",
      "14    208 non-null float64\n",
      "15    208 non-null float64\n",
      "16    208 non-null float64\n",
      "17    208 non-null float64\n",
      "18    208 non-null float64\n",
      "19    208 non-null float64\n",
      "20    208 non-null float64\n",
      "21    208 non-null float64\n",
      "22    208 non-null float64\n",
      "23    208 non-null float64\n",
      "24    208 non-null float64\n",
      "25    208 non-null float64\n",
      "26    208 non-null float64\n",
      "27    208 non-null float64\n",
      "28    208 non-null float64\n",
      "29    208 non-null float64\n",
      "30    208 non-null float64\n",
      "31    208 non-null float64\n",
      "32    208 non-null float64\n",
      "33    208 non-null float64\n",
      "34    208 non-null float64\n",
      "35    208 non-null float64\n",
      "36    208 non-null float64\n",
      "37    208 non-null float64\n",
      "38    208 non-null float64\n",
      "39    208 non-null float64\n",
      "40    208 non-null float64\n",
      "41    208 non-null float64\n",
      "42    208 non-null float64\n",
      "43    208 non-null float64\n",
      "44    208 non-null float64\n",
      "45    208 non-null float64\n",
      "46    208 non-null float64\n",
      "47    208 non-null float64\n",
      "48    208 non-null float64\n",
      "49    208 non-null float64\n",
      "50    208 non-null float64\n",
      "51    208 non-null float64\n",
      "52    208 non-null float64\n",
      "53    208 non-null float64\n",
      "54    208 non-null float64\n",
      "55    208 non-null float64\n",
      "56    208 non-null float64\n",
      "57    208 non-null float64\n",
      "58    208 non-null float64\n",
      "59    208 non-null float64\n",
      "60    208 non-null object\n",
      "dtypes: float64(60), object(1)\n",
      "memory usage: 99.2+ KB\n"
     ]
    }
   ],
   "source": [
    "train_data.info()"
   ]
  },
  {
   "cell_type": "markdown",
   "metadata": {},
   "source": [
    "<b>Observation:</b>\n",
    "<li>There are 60 attributes which are of float datatype and 1 attribute is of object datatype.</li>"
   ]
  },
  {
   "cell_type": "code",
   "execution_count": 36,
   "metadata": {},
   "outputs": [
    {
     "data": {
      "image/png": "[encoded data removed]",
      "text/plain": [
       "<matplotlib.figure.Figure at 0x214cadeaf60>"
      ]
     },
     "metadata": {},
     "output_type": "display_data"
    }
   ],
   "source": [
    "fig, ax = plt.subplots(figsize=(15,15)) \n",
    "sns.heatmap(train_data.isnull(), ax=ax)\n",
    "\n",
    "plt.show()"
   ]
  },
  {
   "cell_type": "code",
   "execution_count": 82,
   "metadata": {},
   "outputs": [
    {
     "data": {
      "text/plain": [
       "0     0\n",
       "1     0\n",
       "2     0\n",
       "3     0\n",
       "4     0\n",
       "5     0\n",
       "6     0\n",
       "7     0\n",
       "8     0\n",
       "9     0\n",
       "10    0\n",
       "11    0\n",
       "12    0\n",
       "13    0\n",
       "14    0\n",
       "15    0\n",
       "16    0\n",
       "17    0\n",
       "18    0\n",
       "19    0\n",
       "20    0\n",
       "21    0\n",
       "22    0\n",
       "23    0\n",
       "24    0\n",
       "25    0\n",
       "26    0\n",
       "27    0\n",
       "28    0\n",
       "29    0\n",
       "     ..\n",
       "31    0\n",
       "32    0\n",
       "33    0\n",
       "34    0\n",
       "35    0\n",
       "36    0\n",
       "37    0\n",
       "38    0\n",
       "39    0\n",
       "40    0\n",
       "41    0\n",
       "42    0\n",
       "43    0\n",
       "44    0\n",
       "45    0\n",
       "46    0\n",
       "47    0\n",
       "48    0\n",
       "49    0\n",
       "50    0\n",
       "51    0\n",
       "52    0\n",
       "53    0\n",
       "54    0\n",
       "55    0\n",
       "56    0\n",
       "57    0\n",
       "58    0\n",
       "59    0\n",
       "60    0\n",
       "Length: 61, dtype: int64"
      ]
     },
     "execution_count": 82,
     "metadata": {},
     "output_type": "execute_result"
    }
   ],
   "source": [
    "train_data.isnull().sum()"
   ]
  },
  {
   "cell_type": "markdown",
   "metadata": {},
   "source": [
    "<b>Observation:</b>\n",
    "<li> There are no missing values in the dataset.</li>"
   ]
  },
  {
   "cell_type": "markdown",
   "metadata": {},
   "source": [
    "<b>Summary Statistics</b>"
   ]
  },
  {
   "cell_type": "code",
   "execution_count": 83,
   "metadata": {},
   "outputs": [
    {
     "data": {
      "text/html": [
       "<div>\n",
       "<style>\n",
       "    .dataframe thead tr:only-child th {\n",
       "        text-align: right;\n",
       "    }\n",
       "\n",
       "    .dataframe thead th {\n",
       "        text-align: left;\n",
       "    }\n",
       "\n",
       "    .dataframe tbody tr th {\n",
       "        vertical-align: top;\n",
       "    }\n",
       "</style>\n",
       "<table border=\"1\" class=\"dataframe\">\n",
       "  <thead>\n",
       "    <tr style=\"text-align: right;\">\n",
       "      <th></th>\n",
       "      <th>0</th>\n",
       "      <th>1</th>\n",
       "      <th>2</th>\n",
       "      <th>3</th>\n",
       "      <th>4</th>\n",
       "      <th>5</th>\n",
       "      <th>6</th>\n",
       "      <th>7</th>\n",
       "      <th>8</th>\n",
       "      <th>9</th>\n",
       "      <th>...</th>\n",
       "      <th>50</th>\n",
       "      <th>51</th>\n",
       "      <th>52</th>\n",
       "      <th>53</th>\n",
       "      <th>54</th>\n",
       "      <th>55</th>\n",
       "      <th>56</th>\n",
       "      <th>57</th>\n",
       "      <th>58</th>\n",
       "      <th>59</th>\n",
       "    </tr>\n",
       "  </thead>\n",
       "  <tbody>\n",
       "    <tr>\n",
       "      <th>count</th>\n",
       "      <td>208.000000</td>\n",
       "      <td>208.000000</td>\n",
       "      <td>208.000000</td>\n",
       "      <td>208.000000</td>\n",
       "      <td>208.000000</td>\n",
       "      <td>208.000000</td>\n",
       "      <td>208.000000</td>\n",
       "      <td>208.000000</td>\n",
       "      <td>208.000000</td>\n",
       "      <td>208.000000</td>\n",
       "      <td>...</td>\n",
       "      <td>208.000000</td>\n",
       "      <td>208.000000</td>\n",
       "      <td>208.000000</td>\n",
       "      <td>208.000000</td>\n",
       "      <td>208.000000</td>\n",
       "      <td>208.000000</td>\n",
       "      <td>208.000000</td>\n",
       "      <td>208.000000</td>\n",
       "      <td>208.000000</td>\n",
       "      <td>208.000000</td>\n",
       "    </tr>\n",
       "    <tr>\n",
       "      <th>mean</th>\n",
       "      <td>0.029164</td>\n",
       "      <td>0.038437</td>\n",
       "      <td>0.043832</td>\n",
       "      <td>0.053892</td>\n",
       "      <td>0.075202</td>\n",
       "      <td>0.104570</td>\n",
       "      <td>0.121747</td>\n",
       "      <td>0.134799</td>\n",
       "      <td>0.178003</td>\n",
       "      <td>0.208259</td>\n",
       "      <td>...</td>\n",
       "      <td>0.016069</td>\n",
       "      <td>0.013420</td>\n",
       "      <td>0.010709</td>\n",
       "      <td>0.010941</td>\n",
       "      <td>0.009290</td>\n",
       "      <td>0.008222</td>\n",
       "      <td>0.007820</td>\n",
       "      <td>0.007949</td>\n",
       "      <td>0.007941</td>\n",
       "      <td>0.006507</td>\n",
       "    </tr>\n",
       "    <tr>\n",
       "      <th>std</th>\n",
       "      <td>0.022991</td>\n",
       "      <td>0.032960</td>\n",
       "      <td>0.038428</td>\n",
       "      <td>0.046528</td>\n",
       "      <td>0.055552</td>\n",
       "      <td>0.059105</td>\n",
       "      <td>0.061788</td>\n",
       "      <td>0.085152</td>\n",
       "      <td>0.118387</td>\n",
       "      <td>0.134416</td>\n",
       "      <td>...</td>\n",
       "      <td>0.012008</td>\n",
       "      <td>0.009634</td>\n",
       "      <td>0.007060</td>\n",
       "      <td>0.007301</td>\n",
       "      <td>0.007088</td>\n",
       "      <td>0.005736</td>\n",
       "      <td>0.005785</td>\n",
       "      <td>0.006470</td>\n",
       "      <td>0.006181</td>\n",
       "      <td>0.005031</td>\n",
       "    </tr>\n",
       "    <tr>\n",
       "      <th>min</th>\n",
       "      <td>0.001500</td>\n",
       "      <td>0.000600</td>\n",
       "      <td>0.001500</td>\n",
       "      <td>0.005800</td>\n",
       "      <td>0.006700</td>\n",
       "      <td>0.010200</td>\n",
       "      <td>0.003300</td>\n",
       "      <td>0.005500</td>\n",
       "      <td>0.007500</td>\n",
       "      <td>0.011300</td>\n",
       "      <td>...</td>\n",
       "      <td>0.000000</td>\n",
       "      <td>0.000800</td>\n",
       "      <td>0.000500</td>\n",
       "      <td>0.001000</td>\n",
       "      <td>0.000600</td>\n",
       "      <td>0.000400</td>\n",
       "      <td>0.000300</td>\n",
       "      <td>0.000300</td>\n",
       "      <td>0.000100</td>\n",
       "      <td>0.000600</td>\n",
       "    </tr>\n",
       "    <tr>\n",
       "      <th>25%</th>\n",
       "      <td>0.013350</td>\n",
       "      <td>0.016450</td>\n",
       "      <td>0.018950</td>\n",
       "      <td>0.024375</td>\n",
       "      <td>0.038050</td>\n",
       "      <td>0.067025</td>\n",
       "      <td>0.080900</td>\n",
       "      <td>0.080425</td>\n",
       "      <td>0.097025</td>\n",
       "      <td>0.111275</td>\n",
       "      <td>...</td>\n",
       "      <td>0.008425</td>\n",
       "      <td>0.007275</td>\n",
       "      <td>0.005075</td>\n",
       "      <td>0.005375</td>\n",
       "      <td>0.004150</td>\n",
       "      <td>0.004400</td>\n",
       "      <td>0.003700</td>\n",
       "      <td>0.003600</td>\n",
       "      <td>0.003675</td>\n",
       "      <td>0.003100</td>\n",
       "    </tr>\n",
       "    <tr>\n",
       "      <th>50%</th>\n",
       "      <td>0.022800</td>\n",
       "      <td>0.030800</td>\n",
       "      <td>0.034300</td>\n",
       "      <td>0.044050</td>\n",
       "      <td>0.062500</td>\n",
       "      <td>0.092150</td>\n",
       "      <td>0.106950</td>\n",
       "      <td>0.112100</td>\n",
       "      <td>0.152250</td>\n",
       "      <td>0.182400</td>\n",
       "      <td>...</td>\n",
       "      <td>0.013900</td>\n",
       "      <td>0.011400</td>\n",
       "      <td>0.009550</td>\n",
       "      <td>0.009300</td>\n",
       "      <td>0.007500</td>\n",
       "      <td>0.006850</td>\n",
       "      <td>0.005950</td>\n",
       "      <td>0.005800</td>\n",
       "      <td>0.006400</td>\n",
       "      <td>0.005300</td>\n",
       "    </tr>\n",
       "    <tr>\n",
       "      <th>75%</th>\n",
       "      <td>0.035550</td>\n",
       "      <td>0.047950</td>\n",
       "      <td>0.057950</td>\n",
       "      <td>0.064500</td>\n",
       "      <td>0.100275</td>\n",
       "      <td>0.134125</td>\n",
       "      <td>0.154000</td>\n",
       "      <td>0.169600</td>\n",
       "      <td>0.233425</td>\n",
       "      <td>0.268700</td>\n",
       "      <td>...</td>\n",
       "      <td>0.020825</td>\n",
       "      <td>0.016725</td>\n",
       "      <td>0.014900</td>\n",
       "      <td>0.014500</td>\n",
       "      <td>0.012100</td>\n",
       "      <td>0.010575</td>\n",
       "      <td>0.010425</td>\n",
       "      <td>0.010350</td>\n",
       "      <td>0.010325</td>\n",
       "      <td>0.008525</td>\n",
       "    </tr>\n",
       "    <tr>\n",
       "      <th>max</th>\n",
       "      <td>0.137100</td>\n",
       "      <td>0.233900</td>\n",
       "      <td>0.305900</td>\n",
       "      <td>0.426400</td>\n",
       "      <td>0.401000</td>\n",
       "      <td>0.382300</td>\n",
       "      <td>0.372900</td>\n",
       "      <td>0.459000</td>\n",
       "      <td>0.682800</td>\n",
       "      <td>0.710600</td>\n",
       "      <td>...</td>\n",
       "      <td>0.100400</td>\n",
       "      <td>0.070900</td>\n",
       "      <td>0.039000</td>\n",
       "      <td>0.035200</td>\n",
       "      <td>0.044700</td>\n",
       "      <td>0.039400</td>\n",
       "      <td>0.035500</td>\n",
       "      <td>0.044000</td>\n",
       "      <td>0.036400</td>\n",
       "      <td>0.043900</td>\n",
       "    </tr>\n",
       "  </tbody>\n",
       "</table>\n",
       "<p>8 rows × 60 columns</p>\n",
       "</div>"
      ],
      "text/plain": [
       "               0           1           2           3           4           5   \\\n",
       "count  208.000000  208.000000  208.000000  208.000000  208.000000  208.000000   \n",
       "mean     0.029164    0.038437    0.043832    0.053892    0.075202    0.104570   \n",
       "std      0.022991    0.032960    0.038428    0.046528    0.055552    0.059105   \n",
       "min      0.001500    0.000600    0.001500    0.005800    0.006700    0.010200   \n",
       "25%      0.013350    0.016450    0.018950    0.024375    0.038050    0.067025   \n",
       "50%      0.022800    0.030800    0.034300    0.044050    0.062500    0.092150   \n",
       "75%      0.035550    0.047950    0.057950    0.064500    0.100275    0.134125   \n",
       "max      0.137100    0.233900    0.305900    0.426400    0.401000    0.382300   \n",
       "\n",
       "               6           7           8           9      ...              50  \\\n",
       "count  208.000000  208.000000  208.000000  208.000000     ...      208.000000   \n",
       "mean     0.121747    0.134799    0.178003    0.208259     ...        0.016069   \n",
       "std      0.061788    0.085152    0.118387    0.134416     ...        0.012008   \n",
       "min      0.003300    0.005500    0.007500    0.011300     ...        0.000000   \n",
       "25%      0.080900    0.080425    0.097025    0.111275     ...        0.008425   \n",
       "50%      0.106950    0.112100    0.152250    0.182400     ...        0.013900   \n",
       "75%      0.154000    0.169600    0.233425    0.268700     ...        0.020825   \n",
       "max      0.372900    0.459000    0.682800    0.710600     ...        0.100400   \n",
       "\n",
       "               51          52          53          54          55          56  \\\n",
       "count  208.000000  208.000000  208.000000  208.000000  208.000000  208.000000   \n",
       "mean     0.013420    0.010709    0.010941    0.009290    0.008222    0.007820   \n",
       "std      0.009634    0.007060    0.007301    0.007088    0.005736    0.005785   \n",
       "min      0.000800    0.000500    0.001000    0.000600    0.000400    0.000300   \n",
       "25%      0.007275    0.005075    0.005375    0.004150    0.004400    0.003700   \n",
       "50%      0.011400    0.009550    0.009300    0.007500    0.006850    0.005950   \n",
       "75%      0.016725    0.014900    0.014500    0.012100    0.010575    0.010425   \n",
       "max      0.070900    0.039000    0.035200    0.044700    0.039400    0.035500   \n",
       "\n",
       "               57          58          59  \n",
       "count  208.000000  208.000000  208.000000  \n",
       "mean     0.007949    0.007941    0.006507  \n",
       "std      0.006470    0.006181    0.005031  \n",
       "min      0.000300    0.000100    0.000600  \n",
       "25%      0.003600    0.003675    0.003100  \n",
       "50%      0.005800    0.006400    0.005300  \n",
       "75%      0.010350    0.010325    0.008525  \n",
       "max      0.044000    0.036400    0.043900  \n",
       "\n",
       "[8 rows x 60 columns]"
      ]
     },
     "execution_count": 83,
     "metadata": {},
     "output_type": "execute_result"
    }
   ],
   "source": [
    "train_data.describe()"
   ]
  },
  {
   "cell_type": "markdown",
   "metadata": {},
   "source": [
    "<b>Observation:</b>\n",
    "<li> The mean is more than median of some attributes.</li>"
   ]
  },
  {
   "cell_type": "markdown",
   "metadata": {},
   "source": [
    "# Data Visualization"
   ]
  },
  {
   "cell_type": "code",
   "execution_count": 46,
   "metadata": {},
   "outputs": [
    {
     "data": {
      "image/png": "[encoded data removed]",
      "text/plain": [
       "<matplotlib.figure.Figure at 0x214cace4a90>"
      ]
     },
     "metadata": {},
     "output_type": "display_data"
    }
   ],
   "source": [
    "# Check the count of each class in target variable\n",
    "\n",
    "sns.countplot(x=60,data=train_data)\n",
    "plt.show()"
   ]
  },
  {
   "cell_type": "code",
   "execution_count": 54,
   "metadata": {},
   "outputs": [
    {
     "name": "stdout",
     "output_type": "stream",
     "text": [
      "[[0.39955135 0.04064823 0.02692565 ... 0.06987027 0.17167808 0.65894689]\n",
      " [0.70353822 0.42163039 1.05561832 ... 0.47240644 0.44455424 0.41985233]\n",
      " [0.12922901 0.60106749 1.72340448 ... 1.30935987 0.25276128 0.25758223]\n",
      " ...\n",
      " [1.00438083 0.16007801 0.67384349 ... 0.90652575 0.03913824 0.67887143]\n",
      " [0.04953255 0.09539176 0.13480381 ... 0.00759783 0.70402047 0.34015415]\n",
      " [0.13794908 0.06497869 0.78861924 ... 0.6738235  0.29860448 0.99479044]]\n"
     ]
    }
   ],
   "source": [
    "# Check whether their are outliers present in the dataset or not\n",
    "from scipy import stats\n",
    "from scipy.stats import zscore\n",
    "z = np.abs(stats.zscore(X))\n",
    "print(z)"
   ]
  },
  {
   "cell_type": "code",
   "execution_count": 55,
   "metadata": {},
   "outputs": [
    {
     "name": "stdout",
     "output_type": "stream",
     "text": [
      "(array([  2,   2,   2,   2,   2,   3,   3,   5,   5,  19,  19,  20,  21,\n",
      "        22,  22,  22,  22,  22,  22,  22,  22,  33,  44,  44,  44,  65,\n",
      "        85,  85,  87,  91,  91,  97,  97,  98,  98,  98,  98,  98,  98,\n",
      "       101, 101, 105, 111, 111, 111, 112, 127, 127, 127, 129, 129, 129,\n",
      "       131, 132, 132, 133, 133, 133, 134, 134, 134, 134, 135, 135, 135,\n",
      "       135, 136, 136, 136, 136, 137, 137, 138, 138, 138, 140, 140, 140,\n",
      "       140, 140, 141, 141, 142, 142, 142, 143, 143, 143, 144, 145, 145,\n",
      "       146, 146, 146, 146, 146, 146, 146, 146, 146, 147, 147, 147, 147,\n",
      "       147, 147, 147, 147, 161, 184, 186, 186, 186], dtype=int64), array([ 8,  9, 10, 11, 56, 38, 39, 13, 14,  4,  7,  5, 37, 38, 39, 40, 41,\n",
      "       46, 47, 48, 49, 49, 39, 42, 43, 58,  1,  2, 56,  5,  6, 58, 59,  0,\n",
      "        1,  2,  3,  4, 59, 12, 57, 55,  2,  3,  4, 57, 13, 54, 57,  0, 12,\n",
      "       53,  0,  7,  8,  8,  9, 52,  0,  6,  7,  8,  7,  8, 53, 55,  0,  7,\n",
      "        8, 51,  9, 10,  2, 47, 51, 45, 46, 48, 49, 50, 45, 59, 53, 54, 58,\n",
      "       41, 45, 51, 51,  1, 49,  0, 41, 42, 45, 46, 47, 48, 50, 51,  4, 45,\n",
      "       49, 52, 54, 55, 56, 57, 46, 10, 44, 45, 46], dtype=int64))\n"
     ]
    }
   ],
   "source": [
    "threshold = 3\n",
    "print(np.where(z > 3))"
   ]
  },
  {
   "cell_type": "code",
   "execution_count": 56,
   "metadata": {},
   "outputs": [
    {
     "name": "stdout",
     "output_type": "stream",
     "text": [
      "0.5797783445302915\n"
     ]
    }
   ],
   "source": [
    "print(z[21][1])"
   ]
  },
  {
   "cell_type": "markdown",
   "metadata": {},
   "source": [
    "<b>Observation:</b>\n",
    "<li> The z-score is less than 3.Hence, outlier is not present.</li>"
   ]
  },
  {
   "cell_type": "code",
   "execution_count": 14,
   "metadata": {},
   "outputs": [
    {
     "data": {
      "text/plain": [
       "0     2.131088\n",
       "1     2.155644\n",
       "2     2.652518\n",
       "3     3.401697\n",
       "4     2.018141\n",
       "5     1.248166\n",
       "6     0.970820\n",
       "7     1.481107\n",
       "8     1.633870\n",
       "9     1.281258\n",
       "10    0.987813\n",
       "11    0.588681\n",
       "12    0.736584\n",
       "13    1.022369\n",
       "14    0.763964\n",
       "15    0.694671\n",
       "16    0.654480\n",
       "17    0.525845\n",
       "18    0.283182\n",
       "19   -0.085331\n",
       "20   -0.252741\n",
       "21   -0.392289\n",
       "22   -0.594350\n",
       "23   -0.691861\n",
       "24   -0.788909\n",
       "25   -0.671580\n",
       "26   -0.627843\n",
       "27   -0.615447\n",
       "28   -0.442007\n",
       "29   -0.132390\n",
       "30    0.259797\n",
       "31    0.313420\n",
       "32    0.423864\n",
       "33    0.563296\n",
       "34    0.591654\n",
       "35    0.619868\n",
       "36    0.676994\n",
       "37    1.033366\n",
       "38    0.908835\n",
       "39    0.861280\n",
       "40    0.863526\n",
       "41    0.860110\n",
       "42    0.909317\n",
       "43    1.235086\n",
       "44    1.366839\n",
       "45    1.706674\n",
       "46    1.790155\n",
       "47    1.277722\n",
       "48    1.273385\n",
       "49    1.761714\n",
       "50    2.716060\n",
       "51    2.093976\n",
       "52    1.060572\n",
       "53    1.093090\n",
       "54    1.789946\n",
       "55    1.780805\n",
       "56    1.653090\n",
       "57    2.098330\n",
       "58    1.737506\n",
       "59    2.775754\n",
       "dtype: float64"
      ]
     },
     "execution_count": 14,
     "metadata": {},
     "output_type": "execute_result"
    }
   ],
   "source": [
    "# Lets check skewness of the dataset\n",
    "train_data.skew()"
   ]
  },
  {
   "cell_type": "markdown",
   "metadata": {},
   "source": [
    "<b>Observations:</b>\n",
    "<li> The attribute which has skewness > 0 i.e. more weight in the left tail of the distribution.</li>\n",
    "<li> The attribute which has skewness < 0 i.e. more weight in the right tail of the distribution.</li>"
   ]
  },
  {
   "cell_type": "markdown",
   "metadata": {},
   "source": [
    "<b>Exploring data Variable<b>"
   ]
  },
  {
   "cell_type": "code",
   "execution_count": 3,
   "metadata": {},
   "outputs": [
    {
     "data": {
      "text/plain": [
       "array(['R', 'M'], dtype=object)"
      ]
     },
     "execution_count": 3,
     "metadata": {},
     "output_type": "execute_result"
    }
   ],
   "source": [
    "train_data[60].unique()"
   ]
  },
  {
   "cell_type": "code",
   "execution_count": 4,
   "metadata": {},
   "outputs": [
    {
     "data": {
      "text/plain": [
       "M    111\n",
       "R     97\n",
       "Name: 60, dtype: int64"
      ]
     },
     "execution_count": 4,
     "metadata": {},
     "output_type": "execute_result"
    }
   ],
   "source": [
    "train_data[60].value_counts()"
   ]
  },
  {
   "cell_type": "markdown",
   "metadata": {},
   "source": [
    "<b>Observation:</b>\n",
    "<li> Target variable is categorical.</li>"
   ]
  },
  {
   "cell_type": "code",
   "execution_count": 6,
   "metadata": {
    "collapsed": true
   },
   "outputs": [],
   "source": [
    "#  return the numpy representation for subsetting \n",
    "train_data=train_data.values"
   ]
  },
  {
   "cell_type": "code",
   "execution_count": 7,
   "metadata": {},
   "outputs": [
    {
     "data": {
      "text/plain": [
       "array([[0.02, 0.0371, 0.0428, ..., 0.009, 0.0032, 'R'],\n",
       "       [0.0453, 0.0523, 0.0843, ..., 0.0052, 0.0044, 'R'],\n",
       "       [0.0262, 0.0582, 0.1099, ..., 0.0095, 0.0078, 'R'],\n",
       "       ...,\n",
       "       [0.0522, 0.0437, 0.018, ..., 0.0077, 0.0031, 'M'],\n",
       "       [0.0303, 0.0353, 0.049, ..., 0.0036, 0.0048, 'M'],\n",
       "       [0.026, 0.0363, 0.0136, ..., 0.0061, 0.0115, 'M']], dtype=object)"
      ]
     },
     "execution_count": 7,
     "metadata": {},
     "output_type": "execute_result"
    }
   ],
   "source": [
    "train_data"
   ]
  },
  {
   "cell_type": "markdown",
   "metadata": {},
   "source": [
    "<b>Dividing the Dataset into X and Y.</b>"
   ]
  },
  {
   "cell_type": "code",
   "execution_count": 17,
   "metadata": {
    "collapsed": true
   },
   "outputs": [],
   "source": [
    "X=train_data[:,0:60].astype(float)\n",
    "y=train_data[:,60]"
   ]
  },
  {
   "cell_type": "markdown",
   "metadata": {},
   "source": [
    "Target variable is categorical. We need to encode it to use it with algorithms."
   ]
  },
  {
   "cell_type": "code",
   "execution_count": 18,
   "metadata": {
    "collapsed": true
   },
   "outputs": [],
   "source": [
    "from sklearn.preprocessing import LabelEncoder\n",
    "LE=LabelEncoder()\n",
    "y=LE.fit_transform(y)"
   ]
  },
  {
   "cell_type": "markdown",
   "metadata": {},
   "source": [
    "As we can see now, the features are not at all on the same scale. We definitely need to scale them. Here, we are using Standard Scaler."
   ]
  },
  {
   "cell_type": "code",
   "execution_count": 19,
   "metadata": {
    "collapsed": true
   },
   "outputs": [],
   "source": [
    "from sklearn.preprocessing import StandardScaler\n",
    "scaler=StandardScaler()\n",
    "X= scaler.fit_transform(X)"
   ]
  },
  {
   "cell_type": "markdown",
   "metadata": {},
   "source": [
    "<b>Splitting the data into train and test into (70:30)</b>"
   ]
  },
  {
   "cell_type": "code",
   "execution_count": 39,
   "metadata": {
    "collapsed": true
   },
   "outputs": [],
   "source": [
    "from sklearn.model_selection import train_test_split\n",
    "\n",
    "X_train, X_test, y_train, y_test= train_test_split(X,y, test_size=0.30)"
   ]
  },
  {
   "cell_type": "code",
   "execution_count": 40,
   "metadata": {
    "collapsed": true
   },
   "outputs": [],
   "source": [
    "def f1_maxscore(m1,X,y):\n",
    "    f1_maxscore=0\n",
    "    rs=0\n",
    "    for r_state in range(42,100):\n",
    "        X_train,X_test, y_train, y_test= train_test_split(X,y,test_size=0.30, random_state=r_state,stratify=y)\n",
    "        m1.fit(X_train,y_train)\n",
    "        y_pred= m1.predict(X_test)\n",
    "        score=f1_score(y_test,y_pred)\n",
    "        if score>f1_maxscore:\n",
    "            f1_maxscore=score\n",
    "            rs=r_state\n",
    "    print(\"Maximum F1_Score is at random_state:\",rs,\" and it is :\",round((f1_maxscore),3))"
   ]
  },
  {
   "cell_type": "markdown",
   "metadata": {},
   "source": [
    "<b>Logistic Regression</b>"
   ]
  },
  {
   "cell_type": "code",
   "execution_count": 41,
   "metadata": {},
   "outputs": [
    {
     "name": "stdout",
     "output_type": "stream",
     "text": [
      "Maximum F1_Score is at random_state: 53  and it is : 0.839\n",
      "The accuracy of the Logistic Model is: 0.905\n",
      "[[27  4]\n",
      " [ 2 30]]\n"
     ]
    }
   ],
   "source": [
    "from sklearn.linear_model import LogisticRegression\n",
    "lr=LogisticRegression()\n",
    "f1_maxscore(lr,X,y)\n",
    "predlr= lr.predict(X_test)\n",
    "score_model1= lr.score(X_test, y_test)\n",
    "print(\"The accuracy of the Logistic Model is:\",round((score_model1),3))\n",
    "print(confusion_matrix(y_test,predlr))"
   ]
  },
  {
   "cell_type": "markdown",
   "metadata": {},
   "source": [
    "<b>Observations:</b>\n",
    "<li> There are 27 observations which are predicted Positive as TP(True Positive) and it is true.</li>\n",
    "<li> There are 30 observations which are predicted Negative as TN(True Negative) and it is True.</li>\n",
    "<li> There are 4 observations which are predicted Negative as FN(False Negative) and it is False. </li>\n",
    "<li> There are 2 observations which are predicted Positive as FP(False Positive) and it is False.</li>"
   ]
  },
  {
   "cell_type": "code",
   "execution_count": 42,
   "metadata": {},
   "outputs": [
    {
     "name": "stdout",
     "output_type": "stream",
     "text": [
      "             precision    recall  f1-score   support\n",
      "\n",
      "          0       0.93      0.87      0.90        31\n",
      "          1       0.88      0.94      0.91        32\n",
      "\n",
      "avg / total       0.91      0.90      0.90        63\n",
      "\n"
     ]
    }
   ],
   "source": [
    "print(classification_report(y_test,predlr))"
   ]
  },
  {
   "cell_type": "markdown",
   "metadata": {},
   "source": [
    "<b>Observation:</b>\n",
    "<li>we got precision 0.91 and recall 0.90 that means that we got high precision, low recall:This shows that we miss a lot of positive examples (high FN) but those we predict as positive are indeed positive (low FP)</li>"
   ]
  },
  {
   "cell_type": "code",
   "execution_count": 43,
   "metadata": {},
   "outputs": [
    {
     "name": "stdout",
     "output_type": "stream",
     "text": [
      "Mean F1 Score after cross validation 0.600359059004621\n",
      "standard deviation for logistic from mean f1 score is 0.12006403495059002\n"
     ]
    }
   ],
   "source": [
    "from sklearn.model_selection import cross_val_score\n",
    "mflr=cross_val_score(lr, X,y,cv=5,scoring=\"f1\").mean()\n",
    "print(\"Mean F1 Score after cross validation\", cross_val_score(lr, X,y,cv=5,scoring=\"f1\").mean())\n",
    "mfslr= cross_val_score(lr, X,y,cv=5,scoring=\"f1\").std()\n",
    "print(\"standard deviation for logistic from mean f1 score is\",cross_val_score(lr, X,y,cv=5,scoring=\"f1\").std())"
   ]
  },
  {
   "cell_type": "code",
   "execution_count": 44,
   "metadata": {},
   "outputs": [
    {
     "data": {
      "image/png": "[encoded data removed]",
      "text/plain": [
       "<matplotlib.figure.Figure at 0x212e70eb518>"
      ]
     },
     "metadata": {},
     "output_type": "display_data"
    }
   ],
   "source": [
    "from sklearn.metrics import roc_curve\n",
    "from sklearn.metrics import roc_auc_score\n",
    "\n",
    "y_pred_prob= lr.predict_proba(X_test)[:,0]\n",
    "tpr,fpr, thresholds= roc_curve(y_test, y_pred_prob)\n",
    "\n",
    "\n",
    "# Plot\n",
    "plt.plot([0,1],[0,1],\"k--\")\n",
    "plt.plot(fpr,tpr,label=\"Logistic\")\n",
    "plt.xlabel(\"False Positive Rate\")\n",
    "plt.ylabel(\"True Positive Rate\")\n",
    "plt.title(\"Logistic Regression\")\n",
    "plt.show()"
   ]
  },
  {
   "cell_type": "code",
   "execution_count": 45,
   "metadata": {},
   "outputs": [
    {
     "data": {
      "text/plain": [
       "0.904233870967742"
      ]
     },
     "execution_count": 45,
     "metadata": {},
     "output_type": "execute_result"
    }
   ],
   "source": [
    "auc_score=roc_auc_score(y_test, lr.predict(X_test))\n",
    "auc_score"
   ]
  },
  {
   "cell_type": "markdown",
   "metadata": {},
   "source": [
    "<b>K-Nearest Neighbor Classifier</b>"
   ]
  },
  {
   "cell_type": "code",
   "execution_count": 46,
   "metadata": {},
   "outputs": [
    {
     "data": {
      "text/plain": [
       "{'n_neighbors': 3}"
      ]
     },
     "execution_count": 46,
     "metadata": {},
     "output_type": "execute_result"
    }
   ],
   "source": [
    "from sklearn.neighbors import KNeighborsClassifier\n",
    "from sklearn.model_selection import GridSearchCV\n",
    "knn= KNeighborsClassifier()\n",
    "neighbors={\"n_neighbors\":range(1,30)}\n",
    "knn1= GridSearchCV(knn, neighbors, cv=5,scoring=\"f1\")\n",
    "knn1.fit(X,y)\n",
    "knn1.best_params_"
   ]
  },
  {
   "cell_type": "code",
   "execution_count": 47,
   "metadata": {},
   "outputs": [
    {
     "name": "stdout",
     "output_type": "stream",
     "text": [
      "Maximum F1_Score is at random_state: 94  and it is : 0.893\n",
      "The accuracy of the KNN Model is: 0.873\n",
      "[[29  2]\n",
      " [ 6 26]]\n"
     ]
    }
   ],
   "source": [
    "knn=KNeighborsClassifier(n_neighbors=3)\n",
    "f1_maxscore(knn,X,y)\n",
    "predknn= knn.predict(X_test)\n",
    "score_model2= knn.score(X_test, y_test)\n",
    "print(\"The accuracy of the KNN Model is:\",round((score_model2),3))\n",
    "print(confusion_matrix(y_test,predknn))"
   ]
  },
  {
   "cell_type": "markdown",
   "metadata": {},
   "source": [
    "<b>Observations:</b>\n",
    "<li> There are 29 observations which are predicted Positive as TP(True Positive) and it is true.</li>\n",
    "<li> There are 26 observations which are predicted Negative as TN(True Negative) and it is True.</li>\n",
    "<li> There are 2 observations which are predicted Negative as FN(False Negative) and it is False. </li>\n",
    "<li> There are 6 observation which are predicted Positive as FP(False Positive) and it is False.</li>"
   ]
  },
  {
   "cell_type": "code",
   "execution_count": 48,
   "metadata": {},
   "outputs": [
    {
     "name": "stdout",
     "output_type": "stream",
     "text": [
      "             precision    recall  f1-score   support\n",
      "\n",
      "          0       0.83      0.94      0.88        31\n",
      "          1       0.93      0.81      0.87        32\n",
      "\n",
      "avg / total       0.88      0.87      0.87        63\n",
      "\n"
     ]
    }
   ],
   "source": [
    "print(classification_report(y_test,predknn))"
   ]
  },
  {
   "cell_type": "markdown",
   "metadata": {},
   "source": [
    "<b>Observation:</b>\n",
    "<li>we got precision 0.88 and recall 0.87 that means that we got high precision, low recall:This shows that we miss a lot of positive examples (high FN) but those we predict as positive are indeed positive (low FP)</li>"
   ]
  },
  {
   "cell_type": "code",
   "execution_count": 49,
   "metadata": {},
   "outputs": [
    {
     "name": "stdout",
     "output_type": "stream",
     "text": [
      "Mean F1 Score after cross validation 0.5892054627165234\n",
      "standard deviation for KNN from mean f1 score is 0.18539457796060815\n"
     ]
    }
   ],
   "source": [
    "from sklearn.model_selection import cross_val_score\n",
    "mfknn=cross_val_score(knn, X,y,cv=5,scoring=\"f1\").mean()\n",
    "print(\"Mean F1 Score after cross validation\", cross_val_score(knn, X,y,cv=5,scoring=\"f1\").mean())\n",
    "mfsknn= cross_val_score(knn, X,y,cv=5,scoring=\"f1\").std()\n",
    "print(\"standard deviation for KNN from mean f1 score is\",cross_val_score(knn, X,y,cv=5,scoring=\"f1\").std())"
   ]
  },
  {
   "cell_type": "code",
   "execution_count": 62,
   "metadata": {},
   "outputs": [
    {
     "data": {
      "image/png": "[encoded data removed]",
      "text/plain": [
       "<matplotlib.figure.Figure at 0x212e93c18d0>"
      ]
     },
     "metadata": {},
     "output_type": "display_data"
    }
   ],
   "source": [
    "from sklearn.metrics import roc_curve\n",
    "from sklearn.metrics import roc_auc_score\n",
    "\n",
    "y_pred_prob= knn.predict_proba(X_test)[:,0]\n",
    "tpr,fpr, thresholds= roc_curve(y_test, y_pred_prob)\n",
    "\n",
    "\n",
    "# Plot\n",
    "plt.plot([0,1],[0,1],\"k--\")\n",
    "plt.plot(fpr,tpr,label=\"KNN\")\n",
    "plt.xlabel(\"False Positive Rate\")\n",
    "plt.ylabel(\"True Positive Rate\")\n",
    "plt.title(\"KNN\")\n",
    "plt.show()"
   ]
  },
  {
   "cell_type": "code",
   "execution_count": 63,
   "metadata": {},
   "outputs": [
    {
     "data": {
      "text/plain": [
       "0.8739919354838711"
      ]
     },
     "execution_count": 63,
     "metadata": {},
     "output_type": "execute_result"
    }
   ],
   "source": [
    "auc_score=roc_auc_score(y_test, knn.predict(X_test))\n",
    "auc_score"
   ]
  },
  {
   "cell_type": "markdown",
   "metadata": {},
   "source": [
    "<b> Decision Tree Classifier</b>"
   ]
  },
  {
   "cell_type": "code",
   "execution_count": 64,
   "metadata": {},
   "outputs": [
    {
     "name": "stdout",
     "output_type": "stream",
     "text": [
      "Maximum F1_Score is at random_state: 68  and it is : 0.817\n",
      "The accuracy of the Decision Tree Model is: 0.841\n",
      "[[23  8]\n",
      " [ 2 30]]\n"
     ]
    }
   ],
   "source": [
    "from sklearn.tree import DecisionTreeClassifier\n",
    "dt = DecisionTreeClassifier(criterion = 'entropy',max_depth=3)\n",
    "\n",
    "f1_maxscore(dt,X,y)\n",
    "preddt= dt.predict(X_test)\n",
    "score_model3= dt.score(X_test, y_test)\n",
    "print(\"The accuracy of the Decision Tree Model is:\",round((score_model3),3))\n",
    "print(confusion_matrix(y_test,preddt))"
   ]
  },
  {
   "cell_type": "markdown",
   "metadata": {},
   "source": [
    "<b>Observations:</b>\n",
    "<li> There are 23 observations which are predicted Positive as TP(True Positive) and it is true.</li>\n",
    "<li> There are 30 observations which are predicted Negative as TN(True Negative) and it is True.</li>\n",
    "<li> There are 8 observations which are predicted Negative as FN(False Negative) and it is False. </li>\n",
    "<li> There are 2 observations which are predicted Positive as FP(False Positive) and it is False.</li>"
   ]
  },
  {
   "cell_type": "code",
   "execution_count": 65,
   "metadata": {},
   "outputs": [
    {
     "name": "stdout",
     "output_type": "stream",
     "text": [
      "             precision    recall  f1-score   support\n",
      "\n",
      "          0       0.92      0.74      0.82        31\n",
      "          1       0.79      0.94      0.86        32\n",
      "\n",
      "avg / total       0.85      0.84      0.84        63\n",
      "\n"
     ]
    }
   ],
   "source": [
    "print(classification_report(y_test,preddt))"
   ]
  },
  {
   "cell_type": "markdown",
   "metadata": {},
   "source": [
    "<b>Observation:</b>\n",
    "<li>we got precision 0.85 and recall 0.84 that means that we got high precision, low recall:This shows that we miss a lot of positive examples (high FN) but those we predict as positive are indeed positive (low FP)</li>"
   ]
  },
  {
   "cell_type": "code",
   "execution_count": 66,
   "metadata": {},
   "outputs": [
    {
     "name": "stdout",
     "output_type": "stream",
     "text": [
      "Mean F1 Score after cross validation 0.614991601343785\n",
      "standard deviation for Decision Tree Classifier from mean f1 score is 0.12159328209054346\n"
     ]
    }
   ],
   "source": [
    "from sklearn.model_selection import cross_val_score\n",
    "mfdt=cross_val_score(dt, X,y,cv=5,scoring=\"f1\").mean()\n",
    "print(\"Mean F1 Score after cross validation\", cross_val_score(dt, X,y,cv=5,scoring=\"f1\").mean())\n",
    "mfsdt= cross_val_score(dt, X,y,cv=5,scoring=\"f1\").std()\n",
    "print(\"standard deviation for Decision Tree Classifier from mean f1 score is\",cross_val_score(dt, X,y,cv=5,scoring=\"f1\").std())"
   ]
  },
  {
   "cell_type": "code",
   "execution_count": 67,
   "metadata": {},
   "outputs": [
    {
     "data": {
      "image/png": "[encoded data removed]",
      "text/plain": [
       "<matplotlib.figure.Figure at 0x212e931c860>"
      ]
     },
     "metadata": {},
     "output_type": "display_data"
    }
   ],
   "source": [
    "from sklearn.metrics import roc_curve\n",
    "from sklearn.metrics import roc_auc_score\n",
    "\n",
    "y_pred_prob= dt.predict_proba(X_test)[:,0]\n",
    "tpr,fpr, thresholds= roc_curve(y_test, y_pred_prob)\n",
    "\n",
    "\n",
    "# Plot\n",
    "plt.plot([0,1],[0,1],\"k--\")\n",
    "plt.plot(fpr,tpr,label=\"Decision Tree\")\n",
    "plt.xlabel(\"False Positive Rate\")\n",
    "plt.ylabel(\"True Positive Rate\")\n",
    "plt.title(\"Decision Tree\")\n",
    "plt.show()"
   ]
  },
  {
   "cell_type": "code",
   "execution_count": 68,
   "metadata": {},
   "outputs": [
    {
     "data": {
      "text/plain": [
       "0.8397177419354839"
      ]
     },
     "execution_count": 68,
     "metadata": {},
     "output_type": "execute_result"
    }
   ],
   "source": [
    "auc_score=roc_auc_score(y_test, dt.predict(X_test))\n",
    "auc_score"
   ]
  },
  {
   "cell_type": "markdown",
   "metadata": {},
   "source": [
    "<b>Naive Bayes</b>"
   ]
  },
  {
   "cell_type": "code",
   "execution_count": 69,
   "metadata": {},
   "outputs": [
    {
     "name": "stdout",
     "output_type": "stream",
     "text": [
      "Maximum F1_Score is at random_state: 95  and it is : 0.8\n",
      "The accuracy of the Gaussian NB Model is: 0.746\n",
      "[[19 12]\n",
      " [ 4 28]]\n"
     ]
    }
   ],
   "source": [
    "from sklearn.naive_bayes import GaussianNB\n",
    "nb = GaussianNB()\n",
    "f1_maxscore(nb,X,y)\n",
    "prednb= nb.predict(X_test)\n",
    "score_model4= nb.score(X_test, y_test)\n",
    "print(\"The accuracy of the Gaussian NB Model is:\",round((score_model4),3))\n",
    "print(confusion_matrix(y_test,prednb))"
   ]
  },
  {
   "cell_type": "markdown",
   "metadata": {},
   "source": [
    "<b>Observations:</b>\n",
    "<li> There are 19 observations which are predicted Positive as TP(True Positive) and it is true.</li>\n",
    "<li> There are 28 observations which are predicted Negative as TN(True Negative) and it is True.</li>\n",
    "<li> There are 12 observations which are predicted Negative as FN(False Negative) and it is False. </li>\n",
    "<li> There are 4 observations which are predicted Positive as FP(False Positive) and it is False.</li>"
   ]
  },
  {
   "cell_type": "code",
   "execution_count": 70,
   "metadata": {},
   "outputs": [
    {
     "name": "stdout",
     "output_type": "stream",
     "text": [
      "             precision    recall  f1-score   support\n",
      "\n",
      "          0       0.83      0.61      0.70        31\n",
      "          1       0.70      0.88      0.78        32\n",
      "\n",
      "avg / total       0.76      0.75      0.74        63\n",
      "\n"
     ]
    }
   ],
   "source": [
    "print(classification_report(y_test,prednb))"
   ]
  },
  {
   "cell_type": "markdown",
   "metadata": {},
   "source": [
    "<b>Observation:</b>\n",
    "<li>we got precision 0.76 and recall 0.75 that means that we got high precision, low recall:This shows that we miss a lot of positive examples (high FN) but those we predict as positive are indeed positive (low FP)</li>"
   ]
  },
  {
   "cell_type": "code",
   "execution_count": 71,
   "metadata": {},
   "outputs": [
    {
     "name": "stdout",
     "output_type": "stream",
     "text": [
      "Mean F1 Score after cross validation 0.6749090670409676\n",
      "standard deviation for Gaussian NB from mean f1 score is 0.19957241489943192\n"
     ]
    }
   ],
   "source": [
    "from sklearn.model_selection import cross_val_score\n",
    "mfnb=cross_val_score(nb, X,y,cv=5,scoring=\"f1\").mean()\n",
    "print(\"Mean F1 Score after cross validation\", cross_val_score(nb, X,y,cv=5,scoring=\"f1\").mean())\n",
    "mfsnb= cross_val_score(nb, X,y,cv=5,scoring=\"f1\").std()\n",
    "print(\"standard deviation for Gaussian NB from mean f1 score is\",cross_val_score(nb, X,y,cv=5,scoring=\"f1\").std())"
   ]
  },
  {
   "cell_type": "code",
   "execution_count": 72,
   "metadata": {},
   "outputs": [
    {
     "data": {
      "image/png": "[encoded data removed]",
      "text/plain": [
       "<matplotlib.figure.Figure at 0x212e93363c8>"
      ]
     },
     "metadata": {},
     "output_type": "display_data"
    }
   ],
   "source": [
    "from sklearn.metrics import roc_curve\n",
    "from sklearn.metrics import roc_auc_score\n",
    "\n",
    "y_pred_prob= nb.predict_proba(X_test)[:,0]\n",
    "tpr,fpr, thresholds= roc_curve(y_test, y_pred_prob)\n",
    "\n",
    "\n",
    "# Plot\n",
    "plt.plot([0,1],[0,1],\"k--\")\n",
    "plt.plot(fpr,tpr,label=\"Naive Bayes\")\n",
    "plt.xlabel(\"False Positive Rate\")\n",
    "plt.ylabel(\"True Positive Rate\")\n",
    "plt.title(\"Naive Bayes\")\n",
    "plt.show()"
   ]
  },
  {
   "cell_type": "code",
   "execution_count": 73,
   "metadata": {},
   "outputs": [
    {
     "data": {
      "text/plain": [
       "0.7439516129032258"
      ]
     },
     "execution_count": 73,
     "metadata": {},
     "output_type": "execute_result"
    }
   ],
   "source": [
    "auc_score=roc_auc_score(y_test, nb.predict(X_test))\n",
    "auc_score"
   ]
  },
  {
   "cell_type": "markdown",
   "metadata": {},
   "source": [
    "<b>Support Vector Machine</b>"
   ]
  },
  {
   "cell_type": "code",
   "execution_count": 79,
   "metadata": {},
   "outputs": [
    {
     "data": {
      "text/plain": [
       "{'C': 0.01, 'kernel': 'linear'}"
      ]
     },
     "execution_count": 79,
     "metadata": {},
     "output_type": "execute_result"
    }
   ],
   "source": [
    "from sklearn.svm import SVC\n",
    "from sklearn.model_selection import GridSearchCV\n",
    "sv=SVC()\n",
    "parameters={\"kernel\":[\"linear\", \"poly\", \"rbf\"],\"C\":[0.001,0.01,0.1,1,10]}\n",
    "sv1 = GridSearchCV(sv, parameters, cv=5,scoring=\"f1\")\n",
    "sv1.fit(X,y)\n",
    "sv1.best_params_"
   ]
  },
  {
   "cell_type": "code",
   "execution_count": 80,
   "metadata": {},
   "outputs": [
    {
     "name": "stdout",
     "output_type": "stream",
     "text": [
      "Maximum F1_Score is at random_state: 97  and it is : 0.857\n",
      "The accuracy of the SVM Model is: 0.857\n",
      "[[26  5]\n",
      " [ 4 28]]\n"
     ]
    }
   ],
   "source": [
    "sv=SVC(kernel=\"linear\",C=0.01,probability=True)\n",
    "f1_maxscore(sv,X,y)\n",
    "predsv= sv.predict(X_test)\n",
    "score_model5= sv.score(X_test, y_test)\n",
    "print(\"The accuracy of the SVM Model is:\",round((score_model5),3))\n",
    "print(confusion_matrix(y_test,predsv))"
   ]
  },
  {
   "cell_type": "markdown",
   "metadata": {},
   "source": [
    "<b>Observations:</b>\n",
    "<li> There are 26 observations which are predicted Positive as TP(True Positive) and it is true.</li>\n",
    "<li> There are 28 observations which are predicted Negative as TN(True Negative) and it is True.</li>\n",
    "<li> There are 5 observations which are predicted Negative as FN(False Negative) and it is False. </li>\n",
    "<li> There are 4 observations which are predicted Positive as FP(False Positive) and it is False.</li>"
   ]
  },
  {
   "cell_type": "code",
   "execution_count": 81,
   "metadata": {},
   "outputs": [
    {
     "name": "stdout",
     "output_type": "stream",
     "text": [
      "             precision    recall  f1-score   support\n",
      "\n",
      "          0       0.87      0.84      0.85        31\n",
      "          1       0.85      0.88      0.86        32\n",
      "\n",
      "avg / total       0.86      0.86      0.86        63\n",
      "\n"
     ]
    }
   ],
   "source": [
    "print(classification_report(y_test,predsv))"
   ]
  },
  {
   "cell_type": "markdown",
   "metadata": {},
   "source": [
    "<b>Observation:</b>\n",
    "<li>we got precision 0.86 and recall 0.86 equal.</li>"
   ]
  },
  {
   "cell_type": "code",
   "execution_count": 82,
   "metadata": {},
   "outputs": [
    {
     "name": "stdout",
     "output_type": "stream",
     "text": [
      "Mean F1 Score after cross validation 0.6679083588733642\n",
      "standard deviation for SVM from mean f1 score is 0.1346264147619921\n"
     ]
    }
   ],
   "source": [
    "from sklearn.model_selection import cross_val_score\n",
    "mfsv=cross_val_score(sv, X,y,cv=5,scoring=\"f1\").mean()\n",
    "print(\"Mean F1 Score after cross validation\", cross_val_score(sv, X,y,cv=5,scoring=\"f1\").mean())\n",
    "mfssv= cross_val_score(sv, X,y,cv=5,scoring=\"f1\").std()\n",
    "print(\"standard deviation for SVM from mean f1 score is\",cross_val_score(sv, X,y,cv=5,scoring=\"f1\").std())"
   ]
  },
  {
   "cell_type": "code",
   "execution_count": 83,
   "metadata": {},
   "outputs": [
    {
     "data": {
      "image/png": "[encoded data removed]",
      "text/plain": [
       "<matplotlib.figure.Figure at 0x212e94df208>"
      ]
     },
     "metadata": {},
     "output_type": "display_data"
    }
   ],
   "source": [
    "from sklearn.metrics import roc_curve\n",
    "from sklearn.metrics import roc_auc_score\n",
    "\n",
    "y_pred_prob= sv.predict_proba(X_test)[:,0]\n",
    "tpr,fpr, thresholds= roc_curve(y_test, y_pred_prob)\n",
    "\n",
    "\n",
    "# Plot\n",
    "plt.plot([0,1],[0,1],\"k--\")\n",
    "plt.plot(fpr,tpr,label=\"SVM\")\n",
    "plt.xlabel(\"False Positive Rate\")\n",
    "plt.ylabel(\"True Positive Rate\")\n",
    "plt.title(\"SVM\")\n",
    "plt.show()"
   ]
  },
  {
   "cell_type": "code",
   "execution_count": 84,
   "metadata": {},
   "outputs": [
    {
     "data": {
      "text/plain": [
       "0.8568548387096775"
      ]
     },
     "execution_count": 84,
     "metadata": {},
     "output_type": "execute_result"
    }
   ],
   "source": [
    "auc_score=roc_auc_score(y_test, sv.predict(X_test))\n",
    "auc_score"
   ]
  },
  {
   "cell_type": "markdown",
   "metadata": {},
   "source": [
    "<b>XG Boost Classifier</b>"
   ]
  },
  {
   "cell_type": "code",
   "execution_count": 85,
   "metadata": {},
   "outputs": [
    {
     "name": "stdout",
     "output_type": "stream",
     "text": [
      "Maximum F1_Score is at random_state: 82  and it is : 0.915\n",
      "The accuracy of the XG Boost Model is: 0.968\n",
      "[[30  1]\n",
      " [ 1 31]]\n"
     ]
    }
   ],
   "source": [
    "import xgboost as xgb\n",
    "from xgboost import XGBClassifier\n",
    "xg = XGBClassifier()\n",
    "f1_maxscore(xg,X,y)\n",
    "predxg= xg.predict(X_test)\n",
    "score_model6= xg.score(X_test, y_test)\n",
    "print(\"The accuracy of the XG Boost Model is:\",round((score_model6),3))\n",
    "print(confusion_matrix(y_test,predxg))"
   ]
  },
  {
   "cell_type": "markdown",
   "metadata": {},
   "source": [
    "<b>Observations:</b>\n",
    "<li> There are 30 observations which are predicted Positive as TP(True Positive) and it is true.</li>\n",
    "<li> There are 31 observations which are predicted Negative as TN(True Negative) and it is True.</li>\n",
    "<li> There are 1 observation which is predicted Negative as FN(False Negative) and it is False. </li>\n",
    "<li> There are 1 observation which is predicted Positive as FP(False Positive) and it is False.</li>"
   ]
  },
  {
   "cell_type": "code",
   "execution_count": 86,
   "metadata": {},
   "outputs": [
    {
     "name": "stdout",
     "output_type": "stream",
     "text": [
      "             precision    recall  f1-score   support\n",
      "\n",
      "          0       0.97      0.97      0.97        31\n",
      "          1       0.97      0.97      0.97        32\n",
      "\n",
      "avg / total       0.97      0.97      0.97        63\n",
      "\n"
     ]
    }
   ],
   "source": [
    "print(classification_report(y_test,predxg))"
   ]
  },
  {
   "cell_type": "markdown",
   "metadata": {},
   "source": [
    "<b>Observation:</b>\n",
    "<li>we got precision 0.97 and recall 0.97.</li>"
   ]
  },
  {
   "cell_type": "code",
   "execution_count": 87,
   "metadata": {
    "scrolled": true
   },
   "outputs": [
    {
     "name": "stdout",
     "output_type": "stream",
     "text": [
      "Mean F1 Score after cross validation 0.7052915354169605\n",
      "standard deviation for XG Boost from mean f1 score is 0.061348293485012084\n"
     ]
    }
   ],
   "source": [
    "from sklearn.model_selection import cross_val_score\n",
    "mfxg=cross_val_score(xg, X,y,cv=5,scoring=\"f1\").mean()\n",
    "print(\"Mean F1 Score after cross validation\", cross_val_score(xg, X,y,cv=5,scoring=\"f1\").mean())\n",
    "mfsxg= cross_val_score(xg, X,y,cv=5,scoring=\"f1\").std()\n",
    "print(\"standard deviation for XG Boost from mean f1 score is\",cross_val_score(xg, X,y,cv=5,scoring=\"f1\").std())"
   ]
  },
  {
   "cell_type": "code",
   "execution_count": 88,
   "metadata": {},
   "outputs": [
    {
     "data": {
      "image/png": "[encoded data removed]",
      "text/plain": [
       "<matplotlib.figure.Figure at 0x212e923bcc0>"
      ]
     },
     "metadata": {},
     "output_type": "display_data"
    }
   ],
   "source": [
    "from sklearn.metrics import roc_curve\n",
    "from sklearn.metrics import roc_auc_score\n",
    "\n",
    "y_pred_prob= xg.predict_proba(X_test)[:,0]\n",
    "tpr,fpr, thresholds= roc_curve(y_test, y_pred_prob)\n",
    "\n",
    "\n",
    "# Plot\n",
    "plt.plot([0,1],[0,1],\"k--\")\n",
    "plt.plot(fpr,tpr,label=\"XG\")\n",
    "plt.xlabel(\"False Positive Rate\")\n",
    "plt.ylabel(\"True Positive Rate\")\n",
    "plt.title(\"XG Boost\")\n",
    "plt.show()"
   ]
  },
  {
   "cell_type": "code",
   "execution_count": 89,
   "metadata": {},
   "outputs": [
    {
     "data": {
      "text/plain": [
       "0.9682459677419355"
      ]
     },
     "execution_count": 89,
     "metadata": {},
     "output_type": "execute_result"
    }
   ],
   "source": [
    "auc_score=roc_auc_score(y_test, xg.predict(X_test))\n",
    "auc_score"
   ]
  },
  {
   "cell_type": "markdown",
   "metadata": {},
   "source": [
    "# Building ensemble model with Base Model"
   ]
  },
  {
   "cell_type": "markdown",
   "metadata": {},
   "source": [
    "<b>Bagging</b> <b>(For Decision Tree)</b>"
   ]
  },
  {
   "cell_type": "code",
   "execution_count": 90,
   "metadata": {},
   "outputs": [
    {
     "name": "stdout",
     "output_type": "stream",
     "text": [
      "Maximum F1_Score is at random_state: 99  and it is : 0.909\n",
      "The accuracy of the Bagging Model is: 0.952\n",
      "[[30  1]\n",
      " [ 2 30]]\n"
     ]
    }
   ],
   "source": [
    "from sklearn.ensemble import BaggingClassifier\n",
    "\n",
    "bg = BaggingClassifier(base_estimator=dt, n_estimators=50)\n",
    "\n",
    "f1_maxscore(bg,X,y)\n",
    "predbg= bg.predict(X_test)\n",
    "score_model7= bg.score(X_test, y_test)\n",
    "print(\"The accuracy of the Bagging Model is:\",round((score_model7),3))\n",
    "print(confusion_matrix(y_test,predbg))"
   ]
  },
  {
   "cell_type": "markdown",
   "metadata": {},
   "source": [
    "<b>Observations:</b>\n",
    "<li> There are 30 observations which are predicted Positive as TP(True Positive) and it is true.</li>\n",
    "<li> There are 30 observations which are predicted Negative as TN(True Negative) and it is True.</li>\n",
    "<li> There are 1 observation which is predicted Negative as FN(False Negative) and it is False. </li>\n",
    "<li> There are 2 observations which are predicted Positive as FP(False Positive) and it is False.</li>"
   ]
  },
  {
   "cell_type": "code",
   "execution_count": 91,
   "metadata": {},
   "outputs": [
    {
     "name": "stdout",
     "output_type": "stream",
     "text": [
      "             precision    recall  f1-score   support\n",
      "\n",
      "          0       0.94      0.97      0.95        31\n",
      "          1       0.97      0.94      0.95        32\n",
      "\n",
      "avg / total       0.95      0.95      0.95        63\n",
      "\n"
     ]
    }
   ],
   "source": [
    "print(classification_report(y_test,predbg))"
   ]
  },
  {
   "cell_type": "markdown",
   "metadata": {},
   "source": [
    "<b>Observation:</b>\n",
    "<li> we got precision and recall 0.95 </li>"
   ]
  },
  {
   "cell_type": "code",
   "execution_count": 92,
   "metadata": {},
   "outputs": [
    {
     "name": "stdout",
     "output_type": "stream",
     "text": [
      "Mean F1 Score after cross validation 0.6532114752462843\n",
      "standard deviation for logistic from mean f1 score is 0.09519863933330563\n"
     ]
    }
   ],
   "source": [
    "from sklearn.model_selection import cross_val_score\n",
    "mfbg=cross_val_score(bg, X,y,cv=5,scoring=\"f1\").mean()\n",
    "print(\"Mean F1 Score after cross validation\", cross_val_score(bg, X,y,cv=5,scoring=\"f1\").mean())\n",
    "mfsbg= cross_val_score(bg, X,y,cv=5,scoring=\"f1\").std()\n",
    "print(\"standard deviation for logistic from mean f1 score is\",cross_val_score(bg, X,y,cv=5,scoring=\"f1\").std())"
   ]
  },
  {
   "cell_type": "code",
   "execution_count": 93,
   "metadata": {},
   "outputs": [
    {
     "data": {
      "image/png": "[encoded data removed]",
      "text/plain": [
       "<matplotlib.figure.Figure at 0x212e9243b38>"
      ]
     },
     "metadata": {},
     "output_type": "display_data"
    }
   ],
   "source": [
    "from sklearn.metrics import roc_curve\n",
    "from sklearn.metrics import roc_auc_score\n",
    "\n",
    "y_pred_prob= bg.predict_proba(X_test)[:,0]\n",
    "tpr,fpr, thresholds= roc_curve(y_test, y_pred_prob)\n",
    "\n",
    "\n",
    "# Plot\n",
    "plt.plot([0,1],[0,1],\"k--\")\n",
    "plt.plot(fpr,tpr,label=\"BG\")\n",
    "plt.xlabel(\"False Positive Rate\")\n",
    "plt.ylabel(\"True Positive Rate\")\n",
    "plt.title(\"Bagging\")\n",
    "plt.show()"
   ]
  },
  {
   "cell_type": "code",
   "execution_count": 94,
   "metadata": {},
   "outputs": [
    {
     "data": {
      "text/plain": [
       "0.9526209677419355"
      ]
     },
     "execution_count": 94,
     "metadata": {},
     "output_type": "execute_result"
    }
   ],
   "source": [
    "auc_score=roc_auc_score(y_test, bg.predict(X_test))\n",
    "auc_score"
   ]
  },
  {
   "cell_type": "markdown",
   "metadata": {},
   "source": [
    "<b>Ada Boost Classifier</b>"
   ]
  },
  {
   "cell_type": "code",
   "execution_count": 95,
   "metadata": {},
   "outputs": [
    {
     "name": "stdout",
     "output_type": "stream",
     "text": [
      "Maximum F1_Score is at random_state: 87  and it is : 0.929\n",
      "The accuracy of the Ada Boosting Model is: 0.937\n",
      "[[29  2]\n",
      " [ 2 30]]\n"
     ]
    }
   ],
   "source": [
    "from sklearn.ensemble import AdaBoostClassifier\n",
    "ab = AdaBoostClassifier(base_estimator=dt, n_estimators=50)\n",
    "#abcl = AdaBoostClassifier(n_estimators=50)\n",
    "f1_maxscore(ab,X,y)\n",
    "predab= ab.predict(X_test)\n",
    "score_model8= ab.score(X_test, y_test)\n",
    "print(\"The accuracy of the Ada Boosting Model is:\",round((score_model8),3))\n",
    "print(confusion_matrix(y_test,predab))"
   ]
  },
  {
   "cell_type": "markdown",
   "metadata": {},
   "source": [
    "<b>Observations:</b>\n",
    "<li> There are 29 observations which are predicted Positive as TP(True Positive) and it is true.</li>\n",
    "<li> There are 30 observations which are predicted Negative as TN(True Negative) and it is True.</li>\n",
    "<li> There are 2 observations which are predicted Negative as FN(False Negative) and it is False. </li>\n",
    "<li> There are 2 observations which are predicted Positive as FP(False Positive) and it is False.</li>"
   ]
  },
  {
   "cell_type": "code",
   "execution_count": 96,
   "metadata": {},
   "outputs": [
    {
     "name": "stdout",
     "output_type": "stream",
     "text": [
      "             precision    recall  f1-score   support\n",
      "\n",
      "          0       0.94      0.94      0.94        31\n",
      "          1       0.94      0.94      0.94        32\n",
      "\n",
      "avg / total       0.94      0.94      0.94        63\n",
      "\n"
     ]
    }
   ],
   "source": [
    "print(classification_report(y_test,predab))"
   ]
  },
  {
   "cell_type": "markdown",
   "metadata": {},
   "source": [
    "<b>Observation:</b>\n",
    "<li> We got precision and recall equal (0.94).</li>"
   ]
  },
  {
   "cell_type": "code",
   "execution_count": 97,
   "metadata": {},
   "outputs": [
    {
     "name": "stdout",
     "output_type": "stream",
     "text": [
      "Mean F1 Score after cross validation 0.6601346979377657\n",
      "standard deviation for Ada Boosting from mean f1 score is 0.10659226150466211\n"
     ]
    }
   ],
   "source": [
    "from sklearn.model_selection import cross_val_score\n",
    "mfab=cross_val_score(ab, X,y,cv=5,scoring=\"f1\").mean()\n",
    "print(\"Mean F1 Score after cross validation\", cross_val_score(ab, X,y,cv=5,scoring=\"f1\").mean())\n",
    "mfsab= cross_val_score(ab, X,y,cv=5,scoring=\"f1\").std()\n",
    "print(\"standard deviation for Ada Boosting from mean f1 score is\",cross_val_score(ab, X,y,cv=5,scoring=\"f1\").std())"
   ]
  },
  {
   "cell_type": "code",
   "execution_count": 98,
   "metadata": {},
   "outputs": [
    {
     "data": {
      "image/png": "[encoded data removed]",
      "text/plain": [
       "<matplotlib.figure.Figure at 0x212e9341208>"
      ]
     },
     "metadata": {},
     "output_type": "display_data"
    }
   ],
   "source": [
    "from sklearn.metrics import roc_curve\n",
    "from sklearn.metrics import roc_auc_score\n",
    "\n",
    "y_pred_prob= ab.predict_proba(X_test)[:,0]\n",
    "tpr,fpr, thresholds= roc_curve(y_test, y_pred_prob)\n",
    "\n",
    "\n",
    "# Plot\n",
    "plt.plot([0,1],[0,1],\"k--\")\n",
    "plt.plot(fpr,tpr,label=\"Ada Boosting\")\n",
    "plt.xlabel(\"False Positive Rate\")\n",
    "plt.ylabel(\"True Positive Rate\")\n",
    "plt.title(\"Ada Boosting\")\n",
    "plt.show()"
   ]
  },
  {
   "cell_type": "code",
   "execution_count": 99,
   "metadata": {},
   "outputs": [
    {
     "data": {
      "text/plain": [
       "0.936491935483871"
      ]
     },
     "execution_count": 99,
     "metadata": {},
     "output_type": "execute_result"
    }
   ],
   "source": [
    "auc_score=roc_auc_score(y_test, ab.predict(X_test))\n",
    "auc_score"
   ]
  },
  {
   "cell_type": "markdown",
   "metadata": {},
   "source": [
    "<b>Gradient Boosting Classifier</b>"
   ]
  },
  {
   "cell_type": "code",
   "execution_count": 100,
   "metadata": {},
   "outputs": [
    {
     "name": "stdout",
     "output_type": "stream",
     "text": [
      "Maximum F1_Score is at random_state: 53  and it is : 0.862\n",
      "The accuracy of the Grading Boosting Model is: 0.937\n",
      "[[29  2]\n",
      " [ 2 30]]\n"
     ]
    }
   ],
   "source": [
    "from sklearn.ensemble import GradientBoostingClassifier\n",
    "gbcl = GradientBoostingClassifier(n_estimators = 50, learning_rate = 0.06, max_depth=5)\n",
    "\n",
    "f1_maxscore(gbcl,X,y)\n",
    "predgbcl= gbcl.predict(X_test)\n",
    "score_model9= gbcl.score(X_test, y_test)\n",
    "print(\"The accuracy of the Grading Boosting Model is:\",round((score_model9),3))\n",
    "print(confusion_matrix(y_test,predgbcl))"
   ]
  },
  {
   "cell_type": "markdown",
   "metadata": {},
   "source": [
    "<b>Observations:</b>\n",
    "<li> There are 29 observations which are predicted Positive as TP(True Positive) and it is true.</li>\n",
    "<li> There are 30 observations which are predicted Negative as TN(True Negative) and it is True.</li>\n",
    "<li> There are 2 observations which are predicted Negative as FN(False Negative) and it is False. </li>\n",
    "<li> There are 2 observations which are predicted Positive as FP(False Positive) and it is False.</li>"
   ]
  },
  {
   "cell_type": "code",
   "execution_count": 102,
   "metadata": {},
   "outputs": [
    {
     "name": "stdout",
     "output_type": "stream",
     "text": [
      "             precision    recall  f1-score   support\n",
      "\n",
      "          0       0.94      0.94      0.94        31\n",
      "          1       0.94      0.94      0.94        32\n",
      "\n",
      "avg / total       0.94      0.94      0.94        63\n",
      "\n"
     ]
    }
   ],
   "source": [
    "print(classification_report(y_test,predgbcl))"
   ]
  },
  {
   "cell_type": "markdown",
   "metadata": {},
   "source": [
    "<b>Observation:</b>\n",
    "<li> We got Precision and Recall equal(0.94).</li>"
   ]
  },
  {
   "cell_type": "code",
   "execution_count": 103,
   "metadata": {},
   "outputs": [
    {
     "name": "stdout",
     "output_type": "stream",
     "text": [
      "Mean F1 Score after cross validation 0.608282566767258\n",
      "standard deviation for Gradient  Boosting from mean f1 score is 0.07880020822965735\n"
     ]
    }
   ],
   "source": [
    "from sklearn.model_selection import cross_val_score\n",
    "mfgbcl=cross_val_score(gbcl, X,y,cv=5,scoring=\"f1\").mean()\n",
    "print(\"Mean F1 Score after cross validation\", cross_val_score(gbcl, X,y,cv=5,scoring=\"f1\").mean())\n",
    "mfsgbcl= cross_val_score(gbcl, X,y,cv=5,scoring=\"f1\").std()\n",
    "print(\"standard deviation for Gradient  Boosting from mean f1 score is\",cross_val_score(gbcl, X,y,cv=5,scoring=\"f1\").std())"
   ]
  },
  {
   "cell_type": "code",
   "execution_count": 104,
   "metadata": {},
   "outputs": [
    {
     "data": {
      "image/png": "[encoded data removed]",
      "text/plain": [
       "<matplotlib.figure.Figure at 0x212dbe687b8>"
      ]
     },
     "metadata": {},
     "output_type": "display_data"
    }
   ],
   "source": [
    "from sklearn.metrics import roc_curve\n",
    "from sklearn.metrics import roc_auc_score\n",
    "\n",
    "y_pred_prob= gbcl.predict_proba(X_test)[:,0]\n",
    "tpr,fpr, thresholds= roc_curve(y_test, y_pred_prob)\n",
    "\n",
    "\n",
    "# Plot\n",
    "plt.plot([0,1],[0,1],\"k--\")\n",
    "plt.plot(fpr,tpr,label=\"Gradient Boosting\")\n",
    "plt.xlabel(\"False Positive Rate\")\n",
    "plt.ylabel(\"True Positive Rate\")\n",
    "plt.title(\"Gradient Boosting\")\n",
    "plt.show()"
   ]
  },
  {
   "cell_type": "code",
   "execution_count": 105,
   "metadata": {},
   "outputs": [
    {
     "data": {
      "text/plain": [
       "0.936491935483871"
      ]
     },
     "execution_count": 105,
     "metadata": {},
     "output_type": "execute_result"
    }
   ],
   "source": [
    "auc_score=roc_auc_score(y_test, gbcl.predict(X_test))\n",
    "auc_score"
   ]
  },
  {
   "cell_type": "code",
   "execution_count": 107,
   "metadata": {},
   "outputs": [
    {
     "data": {
      "text/html": [
       "<div>\n",
       "<style>\n",
       "    .dataframe thead tr:only-child th {\n",
       "        text-align: right;\n",
       "    }\n",
       "\n",
       "    .dataframe thead th {\n",
       "        text-align: left;\n",
       "    }\n",
       "\n",
       "    .dataframe tbody tr th {\n",
       "        vertical-align: top;\n",
       "    }\n",
       "</style>\n",
       "<table border=\"1\" class=\"dataframe\">\n",
       "  <thead>\n",
       "    <tr style=\"text-align: right;\">\n",
       "      <th></th>\n",
       "      <th>Model Name</th>\n",
       "      <th>Accuracy</th>\n",
       "      <th>Mean F1 Score</th>\n",
       "      <th>Std from mean F1 Score</th>\n",
       "    </tr>\n",
       "  </thead>\n",
       "  <tbody>\n",
       "    <tr>\n",
       "      <th>1</th>\n",
       "      <td>Logistic Regression</td>\n",
       "      <td>0.904762</td>\n",
       "      <td>0.600359</td>\n",
       "      <td>0.120064</td>\n",
       "    </tr>\n",
       "    <tr>\n",
       "      <th>2</th>\n",
       "      <td>KNN</td>\n",
       "      <td>0.873016</td>\n",
       "      <td>0.589205</td>\n",
       "      <td>0.185395</td>\n",
       "    </tr>\n",
       "    <tr>\n",
       "      <th>3</th>\n",
       "      <td>Decision Tree</td>\n",
       "      <td>0.841270</td>\n",
       "      <td>0.612611</td>\n",
       "      <td>0.127169</td>\n",
       "    </tr>\n",
       "    <tr>\n",
       "      <th>4</th>\n",
       "      <td>Naive Bayes</td>\n",
       "      <td>0.746032</td>\n",
       "      <td>0.674909</td>\n",
       "      <td>0.199572</td>\n",
       "    </tr>\n",
       "    <tr>\n",
       "      <th>5</th>\n",
       "      <td>SVM</td>\n",
       "      <td>0.857143</td>\n",
       "      <td>0.667908</td>\n",
       "      <td>0.134626</td>\n",
       "    </tr>\n",
       "    <tr>\n",
       "      <th>6</th>\n",
       "      <td>XG Boost</td>\n",
       "      <td>0.968254</td>\n",
       "      <td>0.705292</td>\n",
       "      <td>0.061348</td>\n",
       "    </tr>\n",
       "    <tr>\n",
       "      <th>7</th>\n",
       "      <td>Bagging</td>\n",
       "      <td>0.952381</td>\n",
       "      <td>0.639449</td>\n",
       "      <td>0.119340</td>\n",
       "    </tr>\n",
       "    <tr>\n",
       "      <th>8</th>\n",
       "      <td>Ada Boost</td>\n",
       "      <td>0.936508</td>\n",
       "      <td>0.708831</td>\n",
       "      <td>0.135836</td>\n",
       "    </tr>\n",
       "    <tr>\n",
       "      <th>9</th>\n",
       "      <td>Gradient Boosting</td>\n",
       "      <td>0.936508</td>\n",
       "      <td>0.594876</td>\n",
       "      <td>0.074880</td>\n",
       "    </tr>\n",
       "  </tbody>\n",
       "</table>\n",
       "</div>"
      ],
      "text/plain": [
       "            Model Name  Accuracy  Mean F1 Score   Std from mean F1 Score\n",
       "1  Logistic Regression  0.904762       0.600359                 0.120064\n",
       "2                  KNN  0.873016       0.589205                 0.185395\n",
       "3        Decision Tree  0.841270       0.612611                 0.127169\n",
       "4          Naive Bayes  0.746032       0.674909                 0.199572\n",
       "5                  SVM  0.857143       0.667908                 0.134626\n",
       "6             XG Boost  0.968254       0.705292                 0.061348\n",
       "7              Bagging  0.952381       0.639449                 0.119340\n",
       "8            Ada Boost  0.936508       0.708831                 0.135836\n",
       "9    Gradient Boosting  0.936508       0.594876                 0.074880"
      ]
     },
     "execution_count": 107,
     "metadata": {},
     "output_type": "execute_result"
    }
   ],
   "source": [
    "#Lets initialise the data frame with columns model and f1_score\n",
    "data1= [[\"Logistic Regression\", score_model1, mflr, mfslr], [\"KNN\", score_model2,mfknn, mfsknn],[\"Decision Tree\", score_model3, mfdt, mfsdt],[\"Naive Bayes\", score_model4,mfnb,mfsnb],[\"SVM\",score_model5,mfsv,mfssv],[\"XG Boost\", score_model6, mfxg,mfsxg],[\"Bagging\",score_model7,mfbg,mfsbg],[\"Ada Boost\", score_model8,mfab,mfsab],[\"Gradient Boosting\",score_model9,mfgbcl,mfsgbcl]]\n",
    "compare_data= pd.DataFrame(data1, columns=[\"Model Name\", \"Accuracy\",\"Mean F1 Score\",\" Std from mean F1 Score\"], index=[1,2,3,4,5,6,7,8,9])\n",
    "compare_data"
   ]
  },
  {
   "cell_type": "markdown",
   "metadata": {},
   "source": [
    "<b>Observation:</b>\n",
    "From the above models, XG Boost Classifier performed well among all.\n",
    "<li> This dataset is not balance i.e ~53% of the observations belongs to group \"M\" and ~46% of the observations belongs to income group \"R\".</li>"
   ]
  },
  {
   "cell_type": "code",
   "execution_count": 110,
   "metadata": {},
   "outputs": [
    {
     "data": {
      "text/plain": [
       "['sonar_datset_xg.pkl']"
      ]
     },
     "execution_count": 110,
     "metadata": {},
     "output_type": "execute_result"
    }
   ],
   "source": [
    "#Lets save the above model\n",
    "from sklearn.externals import joblib \n",
    "  \n",
    "# Save the model as a pickle in a file \n",
    "joblib.dump(xg, 'sonar_datset_xg.pkl')"
   ]
  }
 ],
 "metadata": {
  "kernelspec": {
   "display_name": "Python 3",
   "language": "python",
   "name": "python3"
  },
  "language_info": {
   "codemirror_mode": {
    "name": "ipython",
    "version": 3
   },
   "file_extension": ".py",
   "mimetype": "text/x-python",
   "name": "python",
   "nbconvert_exporter": "python",
   "pygments_lexer": "ipython3",
   "version": "3.6.1"
  }
 },
 "nbformat": 4,
 "nbformat_minor": 2
}
